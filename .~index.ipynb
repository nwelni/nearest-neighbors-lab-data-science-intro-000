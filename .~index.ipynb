{
 "cells": [
  {
   "cell_type": "markdown",
   "metadata": {},
   "source": [
    "# Nearest Neighbors Lab"
   ]
  },
  {
   "cell_type": "markdown",
   "metadata": {},
   "source": [
    "### Introduction\n",
    "\n",
    "In this lab, you apply nearest neighbors technique to help a taxi company predict the length of their rides.  Imagine that we are hired to consult for LiftOff, a limo and taxi service that is just opening up in NYC.  Liftoff wants it's taxi drivers to target longer rides, as the longer the ride the more money it makes.  LiftOff has the following theory:\n",
    "\n",
    "* the pickup location of a taxi ride can help predict the length of the ride.  \n",
    "\n",
    "\n",
    "\n",
    "LiftOff asks us to do some analysis to write a function that will allow it to **predict the length of a taxi ride for any given location **.\n",
    "\n",
    "Our technique will be the following:\n",
    "  * **Collect** Obtain the data containing all of the taxi information, and only select the attributes of taxi trips that we need \n",
    "  * **Explore** Examine the attributes of our data, and plot some of our data on a map\n",
    "  * **Train** Write our nearest neighbors formula, and change the number of nearby trips to predict the length of a new trip\n",
    "  * **Predict** Use our function to predict trip lengths of new locations"
   ]
  },
  {
   "cell_type": "markdown",
   "metadata": {},
   "source": [
    "### Collect and Explore the data"
   ]
  },
  {
   "cell_type": "markdown",
   "metadata": {},
   "source": [
    "#### Collect the Data"
   ]
  },
  {
   "cell_type": "markdown",
   "metadata": {},
   "source": [
    "Luckily for us, [NYC Open Data](https://opendata.cityofnewyork.us/) collects information about NYC taxi trips and provides this data on [its website](https://data.cityofnewyork.us/Transportation/2014-Yellow-Taxi-Trip-Data/gn7m-em8n)."
   ]
  },
  {
   "cell_type": "markdown",
   "metadata": {},
   "source": [
    "![](./nyc-taxi.png)"
   ]
  },
  {
   "cell_type": "markdown",
   "metadata": {},
   "source": [
    "For your reading pleasure, the data has already been downloaded into the [trips.json](https://github.com/learn-co-curriculum/nearest-neighbors-lab/blob/master/trips.json) file in this lab which you can find here.  We'll use Python's `json` library to take the data from the `trips.json` file and store it as a variable in our notebook."
   ]
  },
  {
   "cell_type": "code",
   "execution_count": 1,
   "metadata": {},
   "outputs": [],
   "source": [
    "import json\n",
    "# First, read the file\n",
    "trips_file = open('trips.json')\n",
    "# Then, convert contents to list of dictionaries \n",
    "trips = json.load(trips_file)"
   ]
  },
  {
   "cell_type": "markdown",
   "metadata": {},
   "source": [
    "> Press shift + enter"
   ]
  },
  {
   "cell_type": "markdown",
   "metadata": {},
   "source": [
    "#### Explore the data"
   ]
  },
  {
   "cell_type": "markdown",
   "metadata": {},
   "source": [
    "The next step is to explore the data.  First, let's see how many trips we have."
   ]
  },
  {
   "cell_type": "code",
   "execution_count": 2,
   "metadata": {},
   "outputs": [
    {
     "data": {
      "text/plain": [
       "1000"
      ]
     },
     "execution_count": 2,
     "metadata": {},
     "output_type": "execute_result"
    }
   ],
   "source": [
    "len(trips)"
   ]
  },
  {
   "cell_type": "code",
   "execution_count": 3,
   "metadata": {},
   "outputs": [
    {
     "data": {
      "text/plain": [
       "[{'dropoff_datetime': '2014-11-26T22:31:00.000',\n",
       "  'dropoff_latitude': '40.746769999999998',\n",
       "  'dropoff_longitude': '-73.997450000000001',\n",
       "  'imp_surcharge': '0',\n",
       "  'mta_tax': '0.5',\n",
       "  'payment_type': 'CSH',\n",
       "  'pickup_datetime': '2014-11-26T21:59:00.000',\n",
       "  'pickup_latitude': '40.64499',\n",
       "  'pickup_longitude': '-73.781149999999997',\n",
       "  'rate_code': '2',\n",
       "  'tip_amount': '0',\n",
       "  'tolls_amount': '5.3300000000000001',\n",
       "  'total_amount': '57.829999999999998',\n",
       "  'trip_distance': '18.379999999999999',\n",
       "  'vendor_id': 'VTS'},\n",
       " {'dropoff_datetime': '2014-02-22T17:54:37.000',\n",
       "  'dropoff_latitude': '40.781844999999997',\n",
       "  'dropoff_longitude': '-73.979073',\n",
       "  'imp_surcharge': '0',\n",
       "  'mta_tax': '0.5',\n",
       "  'payment_type': 'CSH',\n",
       "  'pickup_datetime': '2014-02-22T17:47:23.000',\n",
       "  'pickup_latitude': '40.766931',\n",
       "  'pickup_longitude': '-73.982097999999993',\n",
       "  'rate_code': '1',\n",
       "  'store_and_fwd_flag': 'N',\n",
       "  'tip_amount': '0',\n",
       "  'tolls_amount': '0',\n",
       "  'total_amount': '8',\n",
       "  'trip_distance': '1.3',\n",
       "  'vendor_id': 'CMT'},\n",
       " {'dropoff_datetime': '2014-04-06T04:07:34.000',\n",
       "  'dropoff_latitude': '40.726610000000001',\n",
       "  'dropoff_longitude': '-73.995954999999995',\n",
       "  'imp_surcharge': '0.5',\n",
       "  'mta_tax': '0.5',\n",
       "  'payment_type': 'CRD',\n",
       "  'pickup_datetime': '2014-04-06T03:51:59.000',\n",
       "  'pickup_latitude': '40.777729999999998',\n",
       "  'pickup_longitude': '-73.951902000000004',\n",
       "  'rate_code': '1',\n",
       "  'store_and_fwd_flag': 'N',\n",
       "  'tip_amount': '3.2999999999999998',\n",
       "  'tolls_amount': '0',\n",
       "  'total_amount': '19.800000000000001',\n",
       "  'trip_distance': '4.5',\n",
       "  'vendor_id': 'CMT'},\n",
       " {'dropoff_datetime': '2014-09-08T21:15:30.000',\n",
       "  'dropoff_latitude': '40.773372999999999',\n",
       "  'dropoff_longitude': '-73.949354',\n",
       "  'fare_amount': '11.5',\n",
       "  'imp_surcharge': '0.5',\n",
       "  'mta_tax': '0.5',\n",
       "  'passenger_count': '1',\n",
       "  'payment_type': 'CSH',\n",
       "  'pickup_datetime': '2014-09-08T21:02:17.000',\n",
       "  'pickup_latitude': '40.795678000000002',\n",
       "  'pickup_longitude': '-73.971048999999994',\n",
       "  'rate_code': '1',\n",
       "  'store_and_fwd_flag': 'N',\n",
       "  'tip_amount': '0',\n",
       "  'tolls_amount': '0',\n",
       "  'total_amount': '12.5',\n",
       "  'trip_distance': '2.3999999999999999',\n",
       "  'vendor_id': 'CMT'}]"
      ]
     },
     "execution_count": 3,
     "metadata": {},
     "output_type": "execute_result"
    }
   ],
   "source": [
    "for index in range(0,3):\n",
    "    del trips[index]['fare_amount'], trips[index]['passenger_count']\n",
    "trips[:4]"
   ]
  },
  {
   "cell_type": "markdown",
   "metadata": {},
   "source": [
    "Not bad at all.  Now let's see what each individual trip looks like.  Each trip is a dictionary, so we can see the attributes of each trip with the `keys` function."
   ]
  },
  {
   "cell_type": "code",
   "execution_count": 4,
   "metadata": {
    "scrolled": true
   },
   "outputs": [
    {
     "data": {
      "text/plain": [
       "dict_keys(['dropoff_datetime', 'dropoff_latitude', 'dropoff_longitude', 'imp_surcharge', 'mta_tax', 'payment_type', 'pickup_datetime', 'pickup_latitude', 'pickup_longitude', 'rate_code', 'tip_amount', 'tolls_amount', 'total_amount', 'trip_distance', 'vendor_id'])"
      ]
     },
     "execution_count": 4,
     "metadata": {},
     "output_type": "execute_result"
    }
   ],
   "source": [
    "trips[0].keys()"
   ]
  },
  {
   "cell_type": "markdown",
   "metadata": {},
   "source": [
    "#### Limit our data"
   ]
  },
  {
   "cell_type": "markdown",
   "metadata": {},
   "source": [
    "Ok, now that we have explored some of our data, let's begin to think through what data is relevant for our task."
   ]
  },
  {
   "cell_type": "markdown",
   "metadata": {
    "collapsed": true
   },
   "source": [
    "Remember that our task is to **use the trip location to predict the length of a trip**.  So let's select the `pickup_latitude`, `pickup_longitude`, and `trip_distance` from each trip.  That will give us the trip location and related `trip_distance` for each trip.  Then based on these **actual** trip distances we can use nearest neighbors to predict an **expected** trip distance for a trip, provided an **actual** location."
   ]
  },
  {
   "cell_type": "markdown",
   "metadata": {},
   "source": [
    "** Add in about trip distance ** "
   ]
  },
  {
   "cell_type": "markdown",
   "metadata": {},
   "source": [
    "Write a function called `parse_trips(trips)` that returns a list of the trips with only the following attributes: \n",
    "* `trip_distance`\n",
    "* `pickup_latitude`\n",
    "* `pickup_longitude`"
   ]
  },
  {
   "cell_type": "code",
   "execution_count": 5,
   "metadata": {},
   "outputs": [],
   "source": [
    "def parse_trips(trips):\n",
    "    return list(map(remove_keys, trips))\n",
    "def remove_keys(trip):\n",
    "    return {key: trip[key] for key in trip.keys() & {'trip_distance', 'pickup_latitude', 'pickup_longitude'}}\n"
   ]
  },
  {
   "cell_type": "code",
   "execution_count": 6,
   "metadata": {},
   "outputs": [
    {
     "data": {
      "text/plain": [
       "{'pickup_latitude': '40.64499',\n",
       " 'trip_distance': '18.379999999999999',\n",
       " 'pickup_longitude': '-73.781149999999997'}"
      ]
     },
     "execution_count": 6,
     "metadata": {},
     "output_type": "execute_result"
    }
   ],
   "source": [
    "remove_keys(trips[0])"
   ]
  },
  {
   "cell_type": "code",
   "execution_count": 46,
   "metadata": {},
   "outputs": [
    {
     "data": {
      "text/plain": [
       "[{'trip_distance': '18.379999999999999',\n",
       "  'pickup_latitude': '40.64499',\n",
       "  'pickup_longitude': '-73.781149999999997'},\n",
       " {'trip_distance': '1.3',\n",
       "  'pickup_latitude': '40.766931',\n",
       "  'pickup_longitude': '-73.982097999999993'},\n",
       " {'trip_distance': '4.5',\n",
       "  'pickup_latitude': '40.777729999999998',\n",
       "  'pickup_longitude': '-73.951902000000004'}]"
      ]
     },
     "execution_count": 46,
     "metadata": {},
     "output_type": "execute_result"
    }
   ],
   "source": [
    "parsed_trips = parse_trips(trips)\n",
    "parsed_trips[:3]\n",
    "# {'pickup_latitude': '40.64499',\n",
    "#  'pickup_longitude': '-73.78115',\n",
    "#  'trip_distance': '18.38'}"
   ]
  },
  {
   "cell_type": "code",
   "execution_count": 39,
   "metadata": {},
   "outputs": [
    {
     "data": {
      "text/plain": [
       "1000"
      ]
     },
     "execution_count": 39,
     "metadata": {},
     "output_type": "execute_result"
    }
   ],
   "source": [
    "len(parsed_trips)"
   ]
  },
  {
   "cell_type": "code",
   "execution_count": 47,
   "metadata": {},
   "outputs": [
    {
     "data": {
      "text/plain": [
       "{'trip_distance': 18.38,\n",
       " 'pickup_latitude': '40.64499',\n",
       " 'pickup_longitude': '-73.781149999999997'}"
      ]
     },
     "execution_count": 47,
     "metadata": {},
     "output_type": "execute_result"
    }
   ],
   "source": [
    "parsed_trips[0]['trip_distance'] = float(parsed_trips[0]['trip_distance'])\n",
    "parsed_trips[0]"
   ]
  },
  {
   "cell_type": "markdown",
   "metadata": {},
   "source": [
    "Now, there's just one change to make.  If you look at one of the trips, all of the values are strings.  Let's change them to be floats."
   ]
  },
  {
   "cell_type": "code",
   "execution_count": 91,
   "metadata": {},
   "outputs": [],
   "source": [
    "def float_values(trips):    \n",
    "    for trip in trips:\n",
    "        trip['trip_distance'] = float(trip['trip_distance'])\n",
    "        trip['pickup_latitude'] = float(trip['pickup_latitude'])\n",
    "        trip['pickup_longitude'] = float(trip['pickup_longitude'])\n",
    "    return trips"
   ]
  },
  {
   "cell_type": "code",
   "execution_count": 92,
   "metadata": {},
   "outputs": [],
   "source": [
    "cleaned_trips = float_values(parsed_trips)"
   ]
  },
  {
   "cell_type": "code",
   "execution_count": 93,
   "metadata": {},
   "outputs": [
    {
     "data": {
      "text/plain": [
       "{'trip_distance': 1.3,\n",
       " 'pickup_latitude': 40.766931,\n",
       " 'pickup_longitude': -73.982098}"
      ]
     },
     "execution_count": 93,
     "metadata": {},
     "output_type": "execute_result"
    }
   ],
   "source": [
    "cleaned_trips[1]\n",
    "\n",
    "# {'pickup_latitude': 40.64499,\n",
    "#  'pickup_longitude': -73.78115,\n",
    "#  'trip_distance': 18.38}"
   ]
  },
  {
   "cell_type": "markdown",
   "metadata": {},
   "source": [
    "### Exploring the Data"
   ]
  },
  {
   "cell_type": "markdown",
   "metadata": {},
   "source": [
    "Now that we have paired down our data, let's get a sense of our trip data.  We can use the `folium` Python library to plot a map of Manhattan, and our data.  First we must import `folium`, and then use the `Map` function to pass through a `location`, and `zoom_start`.  If a map isn't showing up below, copy and paste the command `pip install -r requirements.txt` into your terminal to install `folium` then try again."
   ]
  },
  {
   "cell_type": "code",
   "execution_count": 57,
   "metadata": {},
   "outputs": [],
   "source": [
    "import folium\n",
    "manhattan_map = folium.Map(location=[40.7589, -73.9851], zoom_start=11)"
   ]
  },
  {
   "cell_type": "code",
   "execution_count": 58,
   "metadata": {
    "scrolled": true
   },
   "outputs": [
    {
     "data": {
      "text/html": [
       "<div style=\"width:100%;\"><div style=\"position:relative;width:100%;height:0;padding-bottom:60%;\"><iframe src=\"data:text/html;charset=utf-8;base64,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\" style=\"position:absolute;width:100%;height:100%;left:0;top:0;border:none !important;\" allowfullscreen webkitallowfullscreen mozallowfullscreen></iframe></div></div>"
      ],
      "text/plain": [
       "<folium.folium.Map at 0x7f3a204ab470>"
      ]
     },
     "execution_count": 58,
     "metadata": {},
     "output_type": "execute_result"
    }
   ],
   "source": [
    "manhattan_map"
   ]
  },
  {
   "cell_type": "markdown",
   "metadata": {},
   "source": [
    "Ok, now let's see how we could add a dot to mark a specific location.  We'll start with Times Square."
   ]
  },
  {
   "cell_type": "code",
   "execution_count": 59,
   "metadata": {},
   "outputs": [
    {
     "data": {
      "text/plain": [
       "<folium.vector_layers.CircleMarker at 0x7f39f4158fd0>"
      ]
     },
     "execution_count": 59,
     "metadata": {},
     "output_type": "execute_result"
    }
   ],
   "source": [
    "marker = folium.CircleMarker(location = [40.7589, -73.9851], radius=10)\n",
    "marker.add_to(manhattan_map)"
   ]
  },
  {
   "cell_type": "markdown",
   "metadata": {},
   "source": [
    "Above, we first create a marker.  Then we add that circle marker to the `manhattan_map` we created earlier. "
   ]
  },
  {
   "cell_type": "code",
   "execution_count": 60,
   "metadata": {
    "scrolled": false
   },
   "outputs": [
    {
     "data": {
      "text/html": [
       "<div style=\"width:100%;\"><div style=\"position:relative;width:100%;height:0;padding-bottom:60%;\"><iframe src=\"data:text/html;charset=utf-8;base64,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\" style=\"position:absolute;width:100%;height:100%;left:0;top:0;border:none !important;\" allowfullscreen webkitallowfullscreen mozallowfullscreen></iframe></div></div>"
      ],
      "text/plain": [
       "<folium.folium.Map at 0x7f3a204ab470>"
      ]
     },
     "execution_count": 60,
     "metadata": {},
     "output_type": "execute_result"
    }
   ],
   "source": [
    "manhattan_map"
   ]
  },
  {
   "cell_type": "markdown",
   "metadata": {},
   "source": [
    "Do you see that blue dot near Time's Square?  That is our marker.  \n",
    "\n",
    "So now that we can plot one marker on a map, we should have a sense of how we can plot many markers on a map to display our taxi ride data.  We simply plot a map, and then we add a marker for each location of a taxi trip.\n",
    "\n",
    "Now let's write some functions to allow us to plot maps and add markers a little more easily.  "
   ]
  },
  {
   "cell_type": "markdown",
   "metadata": {},
   "source": [
    "#### Writing some map plotting functions"
   ]
  },
  {
   "cell_type": "markdown",
   "metadata": {},
   "source": [
    "As a first step towards this, note that the functions to create both a marker and map each take in a location as two element list, representing the latitude and longitude values.  Take another look:\n",
    "\n",
    "```python\n",
    "marker = folium.CircleMarker(location = [40.7589, -73.9851])\n",
    "manhattan_map = folium.Map(location=[40.7589, -73.9851])\n",
    "```\n",
    "\n",
    "So let's write a function called to create this two element list from a trip.  Write a function called `location` that  takes in a trip as an argument and returns a list where the first element is the latitude and the second is the longitude.  Remember that a location looks like the following:"
   ]
  },
  {
   "cell_type": "code",
   "execution_count": 61,
   "metadata": {},
   "outputs": [
    {
     "data": {
      "text/plain": [
       "{'pickup_latitude': 40.64499,\n",
       " 'pickup_longitude': -73.78115,\n",
       " 'trip_distance': 18.38}"
      ]
     },
     "execution_count": 61,
     "metadata": {},
     "output_type": "execute_result"
    }
   ],
   "source": [
    "first_trip = {'pickup_latitude': 40.64499, 'pickup_longitude': -73.78115,  'trip_distance': 18.38}\n",
    "first_trip"
   ]
  },
  {
   "cell_type": "code",
   "execution_count": 62,
   "metadata": {},
   "outputs": [],
   "source": [
    "def location(trip):\n",
    "    return [trip['pickup_latitude'],trip['pickup_longitude']]"
   ]
  },
  {
   "cell_type": "code",
   "execution_count": 63,
   "metadata": {},
   "outputs": [
    {
     "data": {
      "text/plain": [
       "[40.64499, -73.78115]"
      ]
     },
     "execution_count": 63,
     "metadata": {},
     "output_type": "execute_result"
    }
   ],
   "source": [
    "first_location = location(first_trip) # [40.64499, -73.78115]\n",
    "first_location # [40.64499, -73.78115]"
   ]
  },
  {
   "cell_type": "markdown",
   "metadata": {},
   "source": [
    "Ok, now that we can turn a trip into a location, let's turn a location into a marker.  Write a function called `to_marker` that takes in a location (in the form of a list) as an argument, and returns a folium `circleMarker` for that location.  The radius of the marker should always equal 6."
   ]
  },
  {
   "cell_type": "code",
   "execution_count": 84,
   "metadata": {},
   "outputs": [],
   "source": [
    "def to_marker(trip):\n",
    "    return folium.CircleMarker(location = [trip['pickup_latitude'], trip['pickup_longitude']], radius = 6)"
   ]
  },
  {
   "cell_type": "code",
   "execution_count": 70,
   "metadata": {},
   "outputs": [
    {
     "data": {
      "text/html": [
       "<div style=\"width:100%;\"><div style=\"position:relative;width:100%;height:0;padding-bottom:60%;\"><iframe src=\"data:text/html;charset=utf-8;base64,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\" style=\"position:absolute;width:100%;height:100%;left:0;top:0;border:none !important;\" allowfullscreen webkitallowfullscreen mozallowfullscreen></iframe></div></div>"
      ],
      "text/plain": [
       "<folium.folium.Map at 0x7f3a204ab470>"
      ]
     },
     "execution_count": 70,
     "metadata": {},
     "output_type": "execute_result"
    }
   ],
   "source": []
  },
  {
   "cell_type": "code",
   "execution_count": 77,
   "metadata": {},
   "outputs": [
    {
     "data": {
      "text/plain": [
       "[40.7589, -73.9851]"
      ]
     },
     "execution_count": 77,
     "metadata": {},
     "output_type": "execute_result"
    }
   ],
   "source": [
    "import json\n",
    "times_square_marker = to_marker([40.7589, -73.9851])\n",
    "\n",
    "times_square_marker and times_square_marker.location # [40.7589, -73.9851]\n",
    "#times_square_marker and json.loads(times_square_marker.options)['radius'] # 6"
   ]
  },
  {
   "cell_type": "markdown",
   "metadata": {},
   "source": [
    "Ok, now that we know how to produce a single marker, let's write a function to produce lots.  We can write a function called `markers_from_trips` that takes in a list of trips, and returns a marker object for each trip.  "
   ]
  },
  {
   "cell_type": "code",
   "execution_count": 94,
   "metadata": {},
   "outputs": [],
   "source": [
    "def markers_from_trips(trips):\n",
    "    return list(map(to_marker, trips))"
   ]
  },
  {
   "cell_type": "code",
   "execution_count": 95,
   "metadata": {},
   "outputs": [],
   "source": [
    "trip_markers = markers_from_trips(cleaned_trips)"
   ]
  },
  {
   "cell_type": "code",
   "execution_count": 96,
   "metadata": {},
   "outputs": [
    {
     "data": {
      "text/plain": [
       "[{'trip_distance': 18.38,\n",
       "  'pickup_latitude': 40.64499,\n",
       "  'pickup_longitude': -73.78115},\n",
       " {'trip_distance': 1.3,\n",
       "  'pickup_latitude': 40.766931,\n",
       "  'pickup_longitude': -73.982098},\n",
       " {'trip_distance': 4.5,\n",
       "  'pickup_latitude': 40.77773,\n",
       "  'pickup_longitude': -73.951902},\n",
       " {'trip_distance': 2.4,\n",
       "  'pickup_latitude': 40.795678,\n",
       "  'pickup_longitude': -73.971049}]"
      ]
     },
     "execution_count": 96,
     "metadata": {},
     "output_type": "execute_result"
    }
   ],
   "source": [
    "cleaned_trips[0:4]"
   ]
  },
  {
   "cell_type": "code",
   "execution_count": 130,
   "metadata": {},
   "outputs": [
    {
     "data": {
      "text/plain": [
       "[[40.64499, -73.78115],\n",
       " [40.766931, -73.982098],\n",
       " [40.77773, -73.951902],\n",
       " [40.795678, -73.971049]]"
      ]
     },
     "execution_count": 130,
     "metadata": {},
     "output_type": "execute_result"
    }
   ],
   "source": [
    "trip_markers and len(trip_markers) # 1000\n",
    "\n",
    "list(map(lambda marker: marker.location, trip_markers[0:4]))\n",
    "# [[40.64499, -73.78115],\n",
    "#  [40.766931, -73.982098],\n",
    "#  [40.77773, -73.951902],\n",
    "#  [40.795678, -73.971049]]"
   ]
  },
  {
   "cell_type": "code",
   "execution_count": 131,
   "metadata": {},
   "outputs": [
    {
     "data": {
      "text/plain": [
       "[<folium.vector_layers.CircleMarker at 0x7f39effde518>,\n",
       " <folium.vector_layers.CircleMarker at 0x7f39effde710>,\n",
       " <folium.vector_layers.CircleMarker at 0x7f39effde390>,\n",
       " <folium.vector_layers.CircleMarker at 0x7f39effde588>,\n",
       " <folium.vector_layers.CircleMarker at 0x7f39effde550>,\n",
       " <folium.vector_layers.CircleMarker at 0x7f39effde5f8>,\n",
       " <folium.vector_layers.CircleMarker at 0x7f39effde048>,\n",
       " <folium.vector_layers.CircleMarker at 0x7f39effde4a8>,\n",
       " <folium.vector_layers.CircleMarker at 0x7f39effde668>,\n",
       " <folium.vector_layers.CircleMarker at 0x7f39effde908>,\n",
       " <folium.vector_layers.CircleMarker at 0x7f39effde7b8>,\n",
       " <folium.vector_layers.CircleMarker at 0x7f39effde780>,\n",
       " <folium.vector_layers.CircleMarker at 0x7f39effde9b0>,\n",
       " <folium.vector_layers.CircleMarker at 0x7f39effdea20>,\n",
       " <folium.vector_layers.CircleMarker at 0x7f39effde978>,\n",
       " <folium.vector_layers.CircleMarker at 0x7f39effde7f0>,\n",
       " <folium.vector_layers.CircleMarker at 0x7f39effde940>,\n",
       " <folium.vector_layers.CircleMarker at 0x7f39effde860>,\n",
       " <folium.vector_layers.CircleMarker at 0x7f39effde748>,\n",
       " <folium.vector_layers.CircleMarker at 0x7f39effde8d0>,\n",
       " <folium.vector_layers.CircleMarker at 0x7f39effde358>,\n",
       " <folium.vector_layers.CircleMarker at 0x7f39effde470>,\n",
       " <folium.vector_layers.CircleMarker at 0x7f39effde9e8>,\n",
       " <folium.vector_layers.CircleMarker at 0x7f39effdea58>,\n",
       " <folium.vector_layers.CircleMarker at 0x7f39effdeb00>,\n",
       " <folium.vector_layers.CircleMarker at 0x7f39effdeac8>,\n",
       " <folium.vector_layers.CircleMarker at 0x7f39effdea90>,\n",
       " <folium.vector_layers.CircleMarker at 0x7f39effdeb38>,\n",
       " <folium.vector_layers.CircleMarker at 0x7f39effdeba8>,\n",
       " <folium.vector_layers.CircleMarker at 0x7f39effdebe0>,\n",
       " <folium.vector_layers.CircleMarker at 0x7f39effdec18>,\n",
       " <folium.vector_layers.CircleMarker at 0x7f39effdec50>,\n",
       " <folium.vector_layers.CircleMarker at 0x7f39effdec88>,\n",
       " <folium.vector_layers.CircleMarker at 0x7f39effdecc0>,\n",
       " <folium.vector_layers.CircleMarker at 0x7f39effdecf8>,\n",
       " <folium.vector_layers.CircleMarker at 0x7f39effded30>,\n",
       " <folium.vector_layers.CircleMarker at 0x7f39effded68>,\n",
       " <folium.vector_layers.CircleMarker at 0x7f39effdeda0>,\n",
       " <folium.vector_layers.CircleMarker at 0x7f39effdedd8>,\n",
       " <folium.vector_layers.CircleMarker at 0x7f39effdee10>,\n",
       " <folium.vector_layers.CircleMarker at 0x7f39effdee48>,\n",
       " <folium.vector_layers.CircleMarker at 0x7f39effdee80>,\n",
       " <folium.vector_layers.CircleMarker at 0x7f39effdeeb8>,\n",
       " <folium.vector_layers.CircleMarker at 0x7f39effdeef0>,\n",
       " <folium.vector_layers.CircleMarker at 0x7f39effdef28>,\n",
       " <folium.vector_layers.CircleMarker at 0x7f39effdef60>,\n",
       " <folium.vector_layers.CircleMarker at 0x7f39effdef98>,\n",
       " <folium.vector_layers.CircleMarker at 0x7f39effdefd0>,\n",
       " <folium.vector_layers.CircleMarker at 0x7f39effde4e0>,\n",
       " <folium.vector_layers.CircleMarker at 0x7f39efffb080>,\n",
       " <folium.vector_layers.CircleMarker at 0x7f39efffb0b8>,\n",
       " <folium.vector_layers.CircleMarker at 0x7f39efffb0f0>,\n",
       " <folium.vector_layers.CircleMarker at 0x7f39efffb128>,\n",
       " <folium.vector_layers.CircleMarker at 0x7f39efffb160>,\n",
       " <folium.vector_layers.CircleMarker at 0x7f39efffb198>,\n",
       " <folium.vector_layers.CircleMarker at 0x7f39efffb1d0>,\n",
       " <folium.vector_layers.CircleMarker at 0x7f39efffb208>,\n",
       " <folium.vector_layers.CircleMarker at 0x7f39efffb240>,\n",
       " <folium.vector_layers.CircleMarker at 0x7f39efffb278>,\n",
       " <folium.vector_layers.CircleMarker at 0x7f39efffb2b0>,\n",
       " <folium.vector_layers.CircleMarker at 0x7f39efffb2e8>,\n",
       " <folium.vector_layers.CircleMarker at 0x7f39efffb320>,\n",
       " <folium.vector_layers.CircleMarker at 0x7f39efffb358>,\n",
       " <folium.vector_layers.CircleMarker at 0x7f39efffb390>,\n",
       " <folium.vector_layers.CircleMarker at 0x7f39efffb3c8>,\n",
       " <folium.vector_layers.CircleMarker at 0x7f39efffb400>,\n",
       " <folium.vector_layers.CircleMarker at 0x7f39efffb438>,\n",
       " <folium.vector_layers.CircleMarker at 0x7f39efffb470>,\n",
       " <folium.vector_layers.CircleMarker at 0x7f39efffb4a8>,\n",
       " <folium.vector_layers.CircleMarker at 0x7f39efffb4e0>,\n",
       " <folium.vector_layers.CircleMarker at 0x7f39efffb518>,\n",
       " <folium.vector_layers.CircleMarker at 0x7f39efffb550>,\n",
       " <folium.vector_layers.CircleMarker at 0x7f39efffb588>,\n",
       " <folium.vector_layers.CircleMarker at 0x7f39efffb5c0>,\n",
       " <folium.vector_layers.CircleMarker at 0x7f39efffb5f8>,\n",
       " <folium.vector_layers.CircleMarker at 0x7f39efffb630>,\n",
       " <folium.vector_layers.CircleMarker at 0x7f39efffb668>,\n",
       " <folium.vector_layers.CircleMarker at 0x7f39efffb6a0>,\n",
       " <folium.vector_layers.CircleMarker at 0x7f39efffb6d8>,\n",
       " <folium.vector_layers.CircleMarker at 0x7f39efffb710>,\n",
       " <folium.vector_layers.CircleMarker at 0x7f39efffb748>,\n",
       " <folium.vector_layers.CircleMarker at 0x7f39efffb780>,\n",
       " <folium.vector_layers.CircleMarker at 0x7f39efffb7b8>,\n",
       " <folium.vector_layers.CircleMarker at 0x7f39efffb7f0>,\n",
       " <folium.vector_layers.CircleMarker at 0x7f39efffb828>,\n",
       " <folium.vector_layers.CircleMarker at 0x7f39efffb860>,\n",
       " <folium.vector_layers.CircleMarker at 0x7f39efffb898>,\n",
       " <folium.vector_layers.CircleMarker at 0x7f39efffb8d0>,\n",
       " <folium.vector_layers.CircleMarker at 0x7f39efffb908>,\n",
       " <folium.vector_layers.CircleMarker at 0x7f39efffb940>,\n",
       " <folium.vector_layers.CircleMarker at 0x7f39efffb978>,\n",
       " <folium.vector_layers.CircleMarker at 0x7f39efffb9b0>,\n",
       " <folium.vector_layers.CircleMarker at 0x7f39efffb9e8>,\n",
       " <folium.vector_layers.CircleMarker at 0x7f39efffba20>,\n",
       " <folium.vector_layers.CircleMarker at 0x7f39efffba58>,\n",
       " <folium.vector_layers.CircleMarker at 0x7f39efffba90>,\n",
       " <folium.vector_layers.CircleMarker at 0x7f39efffbac8>,\n",
       " <folium.vector_layers.CircleMarker at 0x7f39efffbb00>,\n",
       " <folium.vector_layers.CircleMarker at 0x7f39efffbb38>,\n",
       " <folium.vector_layers.CircleMarker at 0x7f39efffbb70>,\n",
       " <folium.vector_layers.CircleMarker at 0x7f39efffbba8>,\n",
       " <folium.vector_layers.CircleMarker at 0x7f39efffbbe0>,\n",
       " <folium.vector_layers.CircleMarker at 0x7f39efffbc18>,\n",
       " <folium.vector_layers.CircleMarker at 0x7f39efffbc50>,\n",
       " <folium.vector_layers.CircleMarker at 0x7f39efffbc88>,\n",
       " <folium.vector_layers.CircleMarker at 0x7f39efffbcc0>,\n",
       " <folium.vector_layers.CircleMarker at 0x7f39efffbcf8>,\n",
       " <folium.vector_layers.CircleMarker at 0x7f39efffbd30>,\n",
       " <folium.vector_layers.CircleMarker at 0x7f39efffbd68>,\n",
       " <folium.vector_layers.CircleMarker at 0x7f39efffbda0>,\n",
       " <folium.vector_layers.CircleMarker at 0x7f39efffbdd8>,\n",
       " <folium.vector_layers.CircleMarker at 0x7f39efffbe10>,\n",
       " <folium.vector_layers.CircleMarker at 0x7f39efffbe48>,\n",
       " <folium.vector_layers.CircleMarker at 0x7f39efffbe80>,\n",
       " <folium.vector_layers.CircleMarker at 0x7f39efffbeb8>,\n",
       " <folium.vector_layers.CircleMarker at 0x7f39efffbef0>,\n",
       " <folium.vector_layers.CircleMarker at 0x7f39efffbf28>,\n",
       " <folium.vector_layers.CircleMarker at 0x7f39efffbf60>,\n",
       " <folium.vector_layers.CircleMarker at 0x7f39efffbf98>,\n",
       " <folium.vector_layers.CircleMarker at 0x7f39efffbfd0>,\n",
       " <folium.vector_layers.CircleMarker at 0x7f39efffb048>,\n",
       " <folium.vector_layers.CircleMarker at 0x7f39eff8a080>,\n",
       " <folium.vector_layers.CircleMarker at 0x7f39eff8a0b8>,\n",
       " <folium.vector_layers.CircleMarker at 0x7f39eff8a0f0>,\n",
       " <folium.vector_layers.CircleMarker at 0x7f39eff8a128>,\n",
       " <folium.vector_layers.CircleMarker at 0x7f39eff8a160>,\n",
       " <folium.vector_layers.CircleMarker at 0x7f39eff8a198>,\n",
       " <folium.vector_layers.CircleMarker at 0x7f39eff8a1d0>,\n",
       " <folium.vector_layers.CircleMarker at 0x7f39eff8a208>,\n",
       " <folium.vector_layers.CircleMarker at 0x7f39eff8a240>,\n",
       " <folium.vector_layers.CircleMarker at 0x7f39eff8a278>,\n",
       " <folium.vector_layers.CircleMarker at 0x7f39eff8a2b0>,\n",
       " <folium.vector_layers.CircleMarker at 0x7f39eff8a2e8>,\n",
       " <folium.vector_layers.CircleMarker at 0x7f39eff8a320>,\n",
       " <folium.vector_layers.CircleMarker at 0x7f39eff8a358>,\n",
       " <folium.vector_layers.CircleMarker at 0x7f39eff8a390>,\n",
       " <folium.vector_layers.CircleMarker at 0x7f39eff8a3c8>,\n",
       " <folium.vector_layers.CircleMarker at 0x7f39eff8a400>,\n",
       " <folium.vector_layers.CircleMarker at 0x7f39eff8a438>,\n",
       " <folium.vector_layers.CircleMarker at 0x7f39eff8a470>,\n",
       " <folium.vector_layers.CircleMarker at 0x7f39eff8a4a8>,\n",
       " <folium.vector_layers.CircleMarker at 0x7f39eff8a4e0>,\n",
       " <folium.vector_layers.CircleMarker at 0x7f39eff8a518>,\n",
       " <folium.vector_layers.CircleMarker at 0x7f39eff8a550>,\n",
       " <folium.vector_layers.CircleMarker at 0x7f39eff8a588>,\n",
       " <folium.vector_layers.CircleMarker at 0x7f39eff8a5c0>,\n",
       " <folium.vector_layers.CircleMarker at 0x7f39eff8a5f8>,\n",
       " <folium.vector_layers.CircleMarker at 0x7f39eff8a630>,\n",
       " <folium.vector_layers.CircleMarker at 0x7f39eff8a668>,\n",
       " <folium.vector_layers.CircleMarker at 0x7f39eff8a6a0>,\n",
       " <folium.vector_layers.CircleMarker at 0x7f39eff8a6d8>,\n",
       " <folium.vector_layers.CircleMarker at 0x7f39eff8a710>,\n",
       " <folium.vector_layers.CircleMarker at 0x7f39eff8a748>,\n",
       " <folium.vector_layers.CircleMarker at 0x7f39eff8a780>,\n",
       " <folium.vector_layers.CircleMarker at 0x7f39eff8a7b8>,\n",
       " <folium.vector_layers.CircleMarker at 0x7f39eff8a7f0>,\n",
       " <folium.vector_layers.CircleMarker at 0x7f39eff8a828>,\n",
       " <folium.vector_layers.CircleMarker at 0x7f39eff8a860>,\n",
       " <folium.vector_layers.CircleMarker at 0x7f39eff8a898>,\n",
       " <folium.vector_layers.CircleMarker at 0x7f39eff8a8d0>,\n",
       " <folium.vector_layers.CircleMarker at 0x7f39eff8a908>,\n",
       " <folium.vector_layers.CircleMarker at 0x7f39eff8a940>,\n",
       " <folium.vector_layers.CircleMarker at 0x7f39eff8a978>,\n",
       " <folium.vector_layers.CircleMarker at 0x7f39eff8a9b0>,\n",
       " <folium.vector_layers.CircleMarker at 0x7f39eff8a9e8>,\n",
       " <folium.vector_layers.CircleMarker at 0x7f39eff8aa20>,\n",
       " <folium.vector_layers.CircleMarker at 0x7f39eff8aa58>,\n",
       " <folium.vector_layers.CircleMarker at 0x7f39eff8aa90>,\n",
       " <folium.vector_layers.CircleMarker at 0x7f39eff8aac8>,\n",
       " <folium.vector_layers.CircleMarker at 0x7f39eff8ab00>,\n",
       " <folium.vector_layers.CircleMarker at 0x7f39eff8ab38>,\n",
       " <folium.vector_layers.CircleMarker at 0x7f39eff8ab70>,\n",
       " <folium.vector_layers.CircleMarker at 0x7f39eff8aba8>,\n",
       " <folium.vector_layers.CircleMarker at 0x7f39eff8abe0>,\n",
       " <folium.vector_layers.CircleMarker at 0x7f39eff8ac18>,\n",
       " <folium.vector_layers.CircleMarker at 0x7f39eff8ac50>,\n",
       " <folium.vector_layers.CircleMarker at 0x7f39eff8ac88>,\n",
       " <folium.vector_layers.CircleMarker at 0x7f39eff8acc0>,\n",
       " <folium.vector_layers.CircleMarker at 0x7f39eff8acf8>,\n",
       " <folium.vector_layers.CircleMarker at 0x7f39eff8ad30>,\n",
       " <folium.vector_layers.CircleMarker at 0x7f39eff8ad68>,\n",
       " <folium.vector_layers.CircleMarker at 0x7f39eff8ada0>,\n",
       " <folium.vector_layers.CircleMarker at 0x7f39eff8add8>,\n",
       " <folium.vector_layers.CircleMarker at 0x7f39eff8ae10>,\n",
       " <folium.vector_layers.CircleMarker at 0x7f39eff8ae48>,\n",
       " <folium.vector_layers.CircleMarker at 0x7f39eff8ae80>,\n",
       " <folium.vector_layers.CircleMarker at 0x7f39eff8aeb8>,\n",
       " <folium.vector_layers.CircleMarker at 0x7f39eff8aef0>,\n",
       " <folium.vector_layers.CircleMarker at 0x7f39eff8af28>,\n",
       " <folium.vector_layers.CircleMarker at 0x7f39eff8af60>,\n",
       " <folium.vector_layers.CircleMarker at 0x7f39eff8af98>,\n",
       " <folium.vector_layers.CircleMarker at 0x7f39eff8afd0>,\n",
       " <folium.vector_layers.CircleMarker at 0x7f39eff8a048>,\n",
       " <folium.vector_layers.CircleMarker at 0x7f39eff98080>,\n",
       " <folium.vector_layers.CircleMarker at 0x7f39eff980b8>,\n",
       " <folium.vector_layers.CircleMarker at 0x7f39eff980f0>,\n",
       " <folium.vector_layers.CircleMarker at 0x7f39eff98128>,\n",
       " <folium.vector_layers.CircleMarker at 0x7f39eff98160>,\n",
       " <folium.vector_layers.CircleMarker at 0x7f39eff98198>,\n",
       " <folium.vector_layers.CircleMarker at 0x7f39eff981d0>,\n",
       " <folium.vector_layers.CircleMarker at 0x7f39eff98208>,\n",
       " <folium.vector_layers.CircleMarker at 0x7f39eff98240>,\n",
       " <folium.vector_layers.CircleMarker at 0x7f39eff98278>,\n",
       " <folium.vector_layers.CircleMarker at 0x7f39eff982b0>,\n",
       " <folium.vector_layers.CircleMarker at 0x7f39eff982e8>,\n",
       " <folium.vector_layers.CircleMarker at 0x7f39eff98320>,\n",
       " <folium.vector_layers.CircleMarker at 0x7f39eff98358>,\n",
       " <folium.vector_layers.CircleMarker at 0x7f39eff98390>,\n",
       " <folium.vector_layers.CircleMarker at 0x7f39eff983c8>,\n",
       " <folium.vector_layers.CircleMarker at 0x7f39eff98400>,\n",
       " <folium.vector_layers.CircleMarker at 0x7f39eff98438>,\n",
       " <folium.vector_layers.CircleMarker at 0x7f39eff98470>,\n",
       " <folium.vector_layers.CircleMarker at 0x7f39eff984a8>,\n",
       " <folium.vector_layers.CircleMarker at 0x7f39eff984e0>,\n",
       " <folium.vector_layers.CircleMarker at 0x7f39eff98518>,\n",
       " <folium.vector_layers.CircleMarker at 0x7f39eff98550>,\n",
       " <folium.vector_layers.CircleMarker at 0x7f39eff98588>,\n",
       " <folium.vector_layers.CircleMarker at 0x7f39eff985c0>,\n",
       " <folium.vector_layers.CircleMarker at 0x7f39eff985f8>,\n",
       " <folium.vector_layers.CircleMarker at 0x7f39eff98630>,\n",
       " <folium.vector_layers.CircleMarker at 0x7f39eff98668>,\n",
       " <folium.vector_layers.CircleMarker at 0x7f39eff986a0>,\n",
       " <folium.vector_layers.CircleMarker at 0x7f39eff986d8>,\n",
       " <folium.vector_layers.CircleMarker at 0x7f39eff98710>,\n",
       " <folium.vector_layers.CircleMarker at 0x7f39eff98748>,\n",
       " <folium.vector_layers.CircleMarker at 0x7f39eff98780>,\n",
       " <folium.vector_layers.CircleMarker at 0x7f39eff987b8>,\n",
       " <folium.vector_layers.CircleMarker at 0x7f39eff987f0>,\n",
       " <folium.vector_layers.CircleMarker at 0x7f39eff98828>,\n",
       " <folium.vector_layers.CircleMarker at 0x7f39eff98860>,\n",
       " <folium.vector_layers.CircleMarker at 0x7f39eff98898>,\n",
       " <folium.vector_layers.CircleMarker at 0x7f39eff988d0>,\n",
       " <folium.vector_layers.CircleMarker at 0x7f39eff98908>,\n",
       " <folium.vector_layers.CircleMarker at 0x7f39eff98940>,\n",
       " <folium.vector_layers.CircleMarker at 0x7f39eff98978>,\n",
       " <folium.vector_layers.CircleMarker at 0x7f39eff989b0>,\n",
       " <folium.vector_layers.CircleMarker at 0x7f39eff989e8>,\n",
       " <folium.vector_layers.CircleMarker at 0x7f39eff98a20>,\n",
       " <folium.vector_layers.CircleMarker at 0x7f39eff98a58>,\n",
       " <folium.vector_layers.CircleMarker at 0x7f39eff98a90>,\n",
       " <folium.vector_layers.CircleMarker at 0x7f39eff98ac8>,\n",
       " <folium.vector_layers.CircleMarker at 0x7f39eff98b00>,\n",
       " <folium.vector_layers.CircleMarker at 0x7f39eff98b38>,\n",
       " <folium.vector_layers.CircleMarker at 0x7f39eff98b70>,\n",
       " <folium.vector_layers.CircleMarker at 0x7f39eff98ba8>,\n",
       " <folium.vector_layers.CircleMarker at 0x7f39eff98be0>,\n",
       " <folium.vector_layers.CircleMarker at 0x7f39eff98c18>,\n",
       " <folium.vector_layers.CircleMarker at 0x7f39eff98c50>,\n",
       " <folium.vector_layers.CircleMarker at 0x7f39eff98c88>,\n",
       " <folium.vector_layers.CircleMarker at 0x7f39eff98cc0>,\n",
       " <folium.vector_layers.CircleMarker at 0x7f39eff98cf8>,\n",
       " <folium.vector_layers.CircleMarker at 0x7f39eff98d30>,\n",
       " <folium.vector_layers.CircleMarker at 0x7f39eff98d68>,\n",
       " <folium.vector_layers.CircleMarker at 0x7f39eff98da0>,\n",
       " <folium.vector_layers.CircleMarker at 0x7f39eff98dd8>,\n",
       " <folium.vector_layers.CircleMarker at 0x7f39eff98e10>,\n",
       " <folium.vector_layers.CircleMarker at 0x7f39eff98e48>,\n",
       " <folium.vector_layers.CircleMarker at 0x7f39eff98e80>,\n",
       " <folium.vector_layers.CircleMarker at 0x7f39eff98eb8>,\n",
       " <folium.vector_layers.CircleMarker at 0x7f39eff98ef0>,\n",
       " <folium.vector_layers.CircleMarker at 0x7f39eff98f28>,\n",
       " <folium.vector_layers.CircleMarker at 0x7f39eff98f60>,\n",
       " <folium.vector_layers.CircleMarker at 0x7f39eff98f98>,\n",
       " <folium.vector_layers.CircleMarker at 0x7f39eff98fd0>,\n",
       " <folium.vector_layers.CircleMarker at 0x7f39eff98048>,\n",
       " <folium.vector_layers.CircleMarker at 0x7f39effa6080>,\n",
       " <folium.vector_layers.CircleMarker at 0x7f39effa60b8>,\n",
       " <folium.vector_layers.CircleMarker at 0x7f39effa60f0>,\n",
       " <folium.vector_layers.CircleMarker at 0x7f39effa6128>,\n",
       " <folium.vector_layers.CircleMarker at 0x7f39effa6160>,\n",
       " <folium.vector_layers.CircleMarker at 0x7f39effa6198>,\n",
       " <folium.vector_layers.CircleMarker at 0x7f39effa61d0>,\n",
       " <folium.vector_layers.CircleMarker at 0x7f39effa6208>,\n",
       " <folium.vector_layers.CircleMarker at 0x7f39effa6240>,\n",
       " <folium.vector_layers.CircleMarker at 0x7f39effa6278>,\n",
       " <folium.vector_layers.CircleMarker at 0x7f39effa62b0>,\n",
       " <folium.vector_layers.CircleMarker at 0x7f39effa62e8>,\n",
       " <folium.vector_layers.CircleMarker at 0x7f39effa6320>,\n",
       " <folium.vector_layers.CircleMarker at 0x7f39effa6358>,\n",
       " <folium.vector_layers.CircleMarker at 0x7f39effa6390>,\n",
       " <folium.vector_layers.CircleMarker at 0x7f39effa63c8>,\n",
       " <folium.vector_layers.CircleMarker at 0x7f39effa6400>,\n",
       " <folium.vector_layers.CircleMarker at 0x7f39effa6438>,\n",
       " <folium.vector_layers.CircleMarker at 0x7f39effa6470>,\n",
       " <folium.vector_layers.CircleMarker at 0x7f39effa64a8>,\n",
       " <folium.vector_layers.CircleMarker at 0x7f39effa64e0>,\n",
       " <folium.vector_layers.CircleMarker at 0x7f39effa6518>,\n",
       " <folium.vector_layers.CircleMarker at 0x7f39effa6550>,\n",
       " <folium.vector_layers.CircleMarker at 0x7f39effa6588>,\n",
       " <folium.vector_layers.CircleMarker at 0x7f39effa65c0>,\n",
       " <folium.vector_layers.CircleMarker at 0x7f39effa65f8>,\n",
       " <folium.vector_layers.CircleMarker at 0x7f39effa6630>,\n",
       " <folium.vector_layers.CircleMarker at 0x7f39effa6668>,\n",
       " <folium.vector_layers.CircleMarker at 0x7f39effa66a0>,\n",
       " <folium.vector_layers.CircleMarker at 0x7f39effa66d8>,\n",
       " <folium.vector_layers.CircleMarker at 0x7f39effa6710>,\n",
       " <folium.vector_layers.CircleMarker at 0x7f39effa6748>,\n",
       " <folium.vector_layers.CircleMarker at 0x7f39effa6780>,\n",
       " <folium.vector_layers.CircleMarker at 0x7f39effa67b8>,\n",
       " <folium.vector_layers.CircleMarker at 0x7f39effa67f0>,\n",
       " <folium.vector_layers.CircleMarker at 0x7f39effa6828>,\n",
       " <folium.vector_layers.CircleMarker at 0x7f39effa6860>,\n",
       " <folium.vector_layers.CircleMarker at 0x7f39effa6898>,\n",
       " <folium.vector_layers.CircleMarker at 0x7f39effa68d0>,\n",
       " <folium.vector_layers.CircleMarker at 0x7f39effa6908>,\n",
       " <folium.vector_layers.CircleMarker at 0x7f39effa6940>,\n",
       " <folium.vector_layers.CircleMarker at 0x7f39effa6978>,\n",
       " <folium.vector_layers.CircleMarker at 0x7f39effa69b0>,\n",
       " <folium.vector_layers.CircleMarker at 0x7f39effa69e8>,\n",
       " <folium.vector_layers.CircleMarker at 0x7f39effa6a20>,\n",
       " <folium.vector_layers.CircleMarker at 0x7f39effa6a58>,\n",
       " <folium.vector_layers.CircleMarker at 0x7f39effa6a90>,\n",
       " <folium.vector_layers.CircleMarker at 0x7f39effa6ac8>,\n",
       " <folium.vector_layers.CircleMarker at 0x7f39effa6b00>,\n",
       " <folium.vector_layers.CircleMarker at 0x7f39effa6b38>,\n",
       " <folium.vector_layers.CircleMarker at 0x7f39effa6b70>,\n",
       " <folium.vector_layers.CircleMarker at 0x7f39effa6ba8>,\n",
       " <folium.vector_layers.CircleMarker at 0x7f39effa6be0>,\n",
       " <folium.vector_layers.CircleMarker at 0x7f39effa6c18>,\n",
       " <folium.vector_layers.CircleMarker at 0x7f39effa6c50>,\n",
       " <folium.vector_layers.CircleMarker at 0x7f39effa6c88>,\n",
       " <folium.vector_layers.CircleMarker at 0x7f39effa6cc0>,\n",
       " <folium.vector_layers.CircleMarker at 0x7f39effa6cf8>,\n",
       " <folium.vector_layers.CircleMarker at 0x7f39effa6d30>,\n",
       " <folium.vector_layers.CircleMarker at 0x7f39effa6d68>,\n",
       " <folium.vector_layers.CircleMarker at 0x7f39effa6da0>,\n",
       " <folium.vector_layers.CircleMarker at 0x7f39effa6dd8>,\n",
       " <folium.vector_layers.CircleMarker at 0x7f39effa6e10>,\n",
       " <folium.vector_layers.CircleMarker at 0x7f39effa6e48>,\n",
       " <folium.vector_layers.CircleMarker at 0x7f39effa6e80>,\n",
       " <folium.vector_layers.CircleMarker at 0x7f39effa6eb8>,\n",
       " <folium.vector_layers.CircleMarker at 0x7f39effa6ef0>,\n",
       " <folium.vector_layers.CircleMarker at 0x7f39effa6f28>,\n",
       " <folium.vector_layers.CircleMarker at 0x7f39effa6f60>,\n",
       " <folium.vector_layers.CircleMarker at 0x7f39effa6f98>,\n",
       " <folium.vector_layers.CircleMarker at 0x7f39effa6fd0>,\n",
       " <folium.vector_layers.CircleMarker at 0x7f39effa6048>,\n",
       " <folium.vector_layers.CircleMarker at 0x7f39effb3080>,\n",
       " <folium.vector_layers.CircleMarker at 0x7f39effb30b8>,\n",
       " <folium.vector_layers.CircleMarker at 0x7f39effb30f0>,\n",
       " <folium.vector_layers.CircleMarker at 0x7f39effb3128>,\n",
       " <folium.vector_layers.CircleMarker at 0x7f39effb3160>,\n",
       " <folium.vector_layers.CircleMarker at 0x7f39effb3198>,\n",
       " <folium.vector_layers.CircleMarker at 0x7f39effb31d0>,\n",
       " <folium.vector_layers.CircleMarker at 0x7f39effb3208>,\n",
       " <folium.vector_layers.CircleMarker at 0x7f39effb3240>,\n",
       " <folium.vector_layers.CircleMarker at 0x7f39effb3278>,\n",
       " <folium.vector_layers.CircleMarker at 0x7f39effb32b0>,\n",
       " <folium.vector_layers.CircleMarker at 0x7f39effb32e8>,\n",
       " <folium.vector_layers.CircleMarker at 0x7f39effb3320>,\n",
       " <folium.vector_layers.CircleMarker at 0x7f39effb3358>,\n",
       " <folium.vector_layers.CircleMarker at 0x7f39effb3390>,\n",
       " <folium.vector_layers.CircleMarker at 0x7f39effb33c8>,\n",
       " <folium.vector_layers.CircleMarker at 0x7f39effb3400>,\n",
       " <folium.vector_layers.CircleMarker at 0x7f39effb3438>,\n",
       " <folium.vector_layers.CircleMarker at 0x7f39effb3470>,\n",
       " <folium.vector_layers.CircleMarker at 0x7f39effb34a8>,\n",
       " <folium.vector_layers.CircleMarker at 0x7f39effb34e0>,\n",
       " <folium.vector_layers.CircleMarker at 0x7f39effb3518>,\n",
       " <folium.vector_layers.CircleMarker at 0x7f39effb3550>,\n",
       " <folium.vector_layers.CircleMarker at 0x7f39effb3588>,\n",
       " <folium.vector_layers.CircleMarker at 0x7f39effb35c0>,\n",
       " <folium.vector_layers.CircleMarker at 0x7f39effb35f8>,\n",
       " <folium.vector_layers.CircleMarker at 0x7f39effb3630>,\n",
       " <folium.vector_layers.CircleMarker at 0x7f39effb3668>,\n",
       " <folium.vector_layers.CircleMarker at 0x7f39effb36a0>,\n",
       " <folium.vector_layers.CircleMarker at 0x7f39effb36d8>,\n",
       " <folium.vector_layers.CircleMarker at 0x7f39effb3710>,\n",
       " <folium.vector_layers.CircleMarker at 0x7f39effb3748>,\n",
       " <folium.vector_layers.CircleMarker at 0x7f39effb3780>,\n",
       " <folium.vector_layers.CircleMarker at 0x7f39effb37b8>,\n",
       " <folium.vector_layers.CircleMarker at 0x7f39effb37f0>,\n",
       " <folium.vector_layers.CircleMarker at 0x7f39effb3828>,\n",
       " <folium.vector_layers.CircleMarker at 0x7f39effb3860>,\n",
       " <folium.vector_layers.CircleMarker at 0x7f39effb3898>,\n",
       " <folium.vector_layers.CircleMarker at 0x7f39effb38d0>,\n",
       " <folium.vector_layers.CircleMarker at 0x7f39effb3908>,\n",
       " <folium.vector_layers.CircleMarker at 0x7f39effb3940>,\n",
       " <folium.vector_layers.CircleMarker at 0x7f39effb3978>,\n",
       " <folium.vector_layers.CircleMarker at 0x7f39effb39b0>,\n",
       " <folium.vector_layers.CircleMarker at 0x7f39effb39e8>,\n",
       " <folium.vector_layers.CircleMarker at 0x7f39effb3a20>,\n",
       " <folium.vector_layers.CircleMarker at 0x7f39effb3a58>,\n",
       " <folium.vector_layers.CircleMarker at 0x7f39effb3a90>,\n",
       " <folium.vector_layers.CircleMarker at 0x7f39effb3ac8>,\n",
       " <folium.vector_layers.CircleMarker at 0x7f39effb3b00>,\n",
       " <folium.vector_layers.CircleMarker at 0x7f39effb3b38>,\n",
       " <folium.vector_layers.CircleMarker at 0x7f39effb3b70>,\n",
       " <folium.vector_layers.CircleMarker at 0x7f39effb3ba8>,\n",
       " <folium.vector_layers.CircleMarker at 0x7f39effb3be0>,\n",
       " <folium.vector_layers.CircleMarker at 0x7f39effb3c18>,\n",
       " <folium.vector_layers.CircleMarker at 0x7f39effb3c50>,\n",
       " <folium.vector_layers.CircleMarker at 0x7f39effb3c88>,\n",
       " <folium.vector_layers.CircleMarker at 0x7f39effb3cc0>,\n",
       " <folium.vector_layers.CircleMarker at 0x7f39effb3cf8>,\n",
       " <folium.vector_layers.CircleMarker at 0x7f39effb3d30>,\n",
       " <folium.vector_layers.CircleMarker at 0x7f39effb3d68>,\n",
       " <folium.vector_layers.CircleMarker at 0x7f39effb3da0>,\n",
       " <folium.vector_layers.CircleMarker at 0x7f39effb3dd8>,\n",
       " <folium.vector_layers.CircleMarker at 0x7f39effb3e10>,\n",
       " <folium.vector_layers.CircleMarker at 0x7f39effb3e48>,\n",
       " <folium.vector_layers.CircleMarker at 0x7f39effb3e80>,\n",
       " <folium.vector_layers.CircleMarker at 0x7f39effb3eb8>,\n",
       " <folium.vector_layers.CircleMarker at 0x7f39effb3ef0>,\n",
       " <folium.vector_layers.CircleMarker at 0x7f39effb3f28>,\n",
       " <folium.vector_layers.CircleMarker at 0x7f39effb3f60>,\n",
       " <folium.vector_layers.CircleMarker at 0x7f39effb3f98>,\n",
       " <folium.vector_layers.CircleMarker at 0x7f39effb3fd0>,\n",
       " <folium.vector_layers.CircleMarker at 0x7f39effb3048>,\n",
       " <folium.vector_layers.CircleMarker at 0x7f39eff40048>,\n",
       " <folium.vector_layers.CircleMarker at 0x7f39eff400b8>,\n",
       " <folium.vector_layers.CircleMarker at 0x7f39eff400f0>,\n",
       " <folium.vector_layers.CircleMarker at 0x7f39eff40128>,\n",
       " <folium.vector_layers.CircleMarker at 0x7f39eff40160>,\n",
       " <folium.vector_layers.CircleMarker at 0x7f39eff40198>,\n",
       " <folium.vector_layers.CircleMarker at 0x7f39eff401d0>,\n",
       " <folium.vector_layers.CircleMarker at 0x7f39eff40208>,\n",
       " <folium.vector_layers.CircleMarker at 0x7f39eff40240>,\n",
       " <folium.vector_layers.CircleMarker at 0x7f39eff40278>,\n",
       " <folium.vector_layers.CircleMarker at 0x7f39eff402b0>,\n",
       " <folium.vector_layers.CircleMarker at 0x7f39eff402e8>,\n",
       " <folium.vector_layers.CircleMarker at 0x7f39eff40320>,\n",
       " <folium.vector_layers.CircleMarker at 0x7f39eff40358>,\n",
       " <folium.vector_layers.CircleMarker at 0x7f39eff40390>,\n",
       " <folium.vector_layers.CircleMarker at 0x7f39eff403c8>,\n",
       " <folium.vector_layers.CircleMarker at 0x7f39eff40400>,\n",
       " <folium.vector_layers.CircleMarker at 0x7f39eff40438>,\n",
       " <folium.vector_layers.CircleMarker at 0x7f39eff40470>,\n",
       " <folium.vector_layers.CircleMarker at 0x7f39eff404a8>,\n",
       " <folium.vector_layers.CircleMarker at 0x7f39eff404e0>,\n",
       " <folium.vector_layers.CircleMarker at 0x7f39eff40518>,\n",
       " <folium.vector_layers.CircleMarker at 0x7f39eff40550>,\n",
       " <folium.vector_layers.CircleMarker at 0x7f39eff40588>,\n",
       " <folium.vector_layers.CircleMarker at 0x7f39eff405c0>,\n",
       " <folium.vector_layers.CircleMarker at 0x7f39eff405f8>,\n",
       " <folium.vector_layers.CircleMarker at 0x7f39eff40630>,\n",
       " <folium.vector_layers.CircleMarker at 0x7f39eff40668>,\n",
       " <folium.vector_layers.CircleMarker at 0x7f39eff406a0>,\n",
       " <folium.vector_layers.CircleMarker at 0x7f39eff406d8>,\n",
       " <folium.vector_layers.CircleMarker at 0x7f39eff40710>,\n",
       " <folium.vector_layers.CircleMarker at 0x7f39eff40748>,\n",
       " <folium.vector_layers.CircleMarker at 0x7f39eff40780>,\n",
       " <folium.vector_layers.CircleMarker at 0x7f39eff407b8>,\n",
       " <folium.vector_layers.CircleMarker at 0x7f39eff407f0>,\n",
       " <folium.vector_layers.CircleMarker at 0x7f39eff40828>,\n",
       " <folium.vector_layers.CircleMarker at 0x7f39eff40860>,\n",
       " <folium.vector_layers.CircleMarker at 0x7f39eff40898>,\n",
       " <folium.vector_layers.CircleMarker at 0x7f39eff408d0>,\n",
       " <folium.vector_layers.CircleMarker at 0x7f39eff40908>,\n",
       " <folium.vector_layers.CircleMarker at 0x7f39eff40940>,\n",
       " <folium.vector_layers.CircleMarker at 0x7f39eff40978>,\n",
       " <folium.vector_layers.CircleMarker at 0x7f39eff409b0>,\n",
       " <folium.vector_layers.CircleMarker at 0x7f39eff409e8>,\n",
       " <folium.vector_layers.CircleMarker at 0x7f39eff40a20>,\n",
       " <folium.vector_layers.CircleMarker at 0x7f39eff40a58>,\n",
       " <folium.vector_layers.CircleMarker at 0x7f39eff40a90>,\n",
       " <folium.vector_layers.CircleMarker at 0x7f39eff40ac8>,\n",
       " <folium.vector_layers.CircleMarker at 0x7f39eff40b00>,\n",
       " <folium.vector_layers.CircleMarker at 0x7f39eff40b38>,\n",
       " <folium.vector_layers.CircleMarker at 0x7f39eff40b70>,\n",
       " <folium.vector_layers.CircleMarker at 0x7f39eff40ba8>,\n",
       " <folium.vector_layers.CircleMarker at 0x7f39eff40be0>,\n",
       " <folium.vector_layers.CircleMarker at 0x7f39eff40c18>,\n",
       " <folium.vector_layers.CircleMarker at 0x7f39eff40c50>,\n",
       " <folium.vector_layers.CircleMarker at 0x7f39eff40c88>,\n",
       " <folium.vector_layers.CircleMarker at 0x7f39eff40cc0>,\n",
       " <folium.vector_layers.CircleMarker at 0x7f39eff40cf8>,\n",
       " <folium.vector_layers.CircleMarker at 0x7f39eff40d30>,\n",
       " <folium.vector_layers.CircleMarker at 0x7f39eff40d68>,\n",
       " <folium.vector_layers.CircleMarker at 0x7f39eff40da0>,\n",
       " <folium.vector_layers.CircleMarker at 0x7f39eff40dd8>,\n",
       " <folium.vector_layers.CircleMarker at 0x7f39eff40e10>,\n",
       " <folium.vector_layers.CircleMarker at 0x7f39eff40e48>,\n",
       " <folium.vector_layers.CircleMarker at 0x7f39eff40e80>,\n",
       " <folium.vector_layers.CircleMarker at 0x7f39eff40eb8>,\n",
       " <folium.vector_layers.CircleMarker at 0x7f39eff40ef0>,\n",
       " <folium.vector_layers.CircleMarker at 0x7f39eff40f28>,\n",
       " <folium.vector_layers.CircleMarker at 0x7f39eff40f60>,\n",
       " <folium.vector_layers.CircleMarker at 0x7f39eff40f98>,\n",
       " <folium.vector_layers.CircleMarker at 0x7f39eff40fd0>,\n",
       " <folium.vector_layers.CircleMarker at 0x7f39eff40080>,\n",
       " <folium.vector_layers.CircleMarker at 0x7f39eff4f080>,\n",
       " <folium.vector_layers.CircleMarker at 0x7f39eff4f0b8>,\n",
       " <folium.vector_layers.CircleMarker at 0x7f39eff4f0f0>,\n",
       " <folium.vector_layers.CircleMarker at 0x7f39eff4f128>,\n",
       " <folium.vector_layers.CircleMarker at 0x7f39eff4f160>,\n",
       " <folium.vector_layers.CircleMarker at 0x7f39eff4f198>,\n",
       " <folium.vector_layers.CircleMarker at 0x7f39eff4f1d0>,\n",
       " <folium.vector_layers.CircleMarker at 0x7f39eff4f208>,\n",
       " <folium.vector_layers.CircleMarker at 0x7f39eff4f240>,\n",
       " <folium.vector_layers.CircleMarker at 0x7f39eff4f278>,\n",
       " <folium.vector_layers.CircleMarker at 0x7f39eff4f2b0>,\n",
       " <folium.vector_layers.CircleMarker at 0x7f39eff4f2e8>,\n",
       " <folium.vector_layers.CircleMarker at 0x7f39eff4f320>,\n",
       " <folium.vector_layers.CircleMarker at 0x7f39eff4f358>,\n",
       " <folium.vector_layers.CircleMarker at 0x7f39eff4f390>,\n",
       " <folium.vector_layers.CircleMarker at 0x7f39eff4f3c8>,\n",
       " <folium.vector_layers.CircleMarker at 0x7f39eff4f400>,\n",
       " <folium.vector_layers.CircleMarker at 0x7f39eff4f438>,\n",
       " <folium.vector_layers.CircleMarker at 0x7f39eff4f470>,\n",
       " <folium.vector_layers.CircleMarker at 0x7f39eff4f4a8>,\n",
       " <folium.vector_layers.CircleMarker at 0x7f39eff4f4e0>,\n",
       " <folium.vector_layers.CircleMarker at 0x7f39eff4f518>,\n",
       " <folium.vector_layers.CircleMarker at 0x7f39eff4f550>,\n",
       " <folium.vector_layers.CircleMarker at 0x7f39eff4f588>,\n",
       " <folium.vector_layers.CircleMarker at 0x7f39eff4f5c0>,\n",
       " <folium.vector_layers.CircleMarker at 0x7f39eff4f5f8>,\n",
       " <folium.vector_layers.CircleMarker at 0x7f39eff4f630>,\n",
       " <folium.vector_layers.CircleMarker at 0x7f39eff4f668>,\n",
       " <folium.vector_layers.CircleMarker at 0x7f39eff4f6a0>,\n",
       " <folium.vector_layers.CircleMarker at 0x7f39eff4f6d8>,\n",
       " <folium.vector_layers.CircleMarker at 0x7f39effde630>,\n",
       " <folium.vector_layers.CircleMarker at 0x7f39effde898>,\n",
       " <folium.vector_layers.CircleMarker at 0x7f39eff4f710>,\n",
       " <folium.vector_layers.CircleMarker at 0x7f39eff4f748>,\n",
       " <folium.vector_layers.CircleMarker at 0x7f39eff4f780>,\n",
       " <folium.vector_layers.CircleMarker at 0x7f39eff4f7b8>,\n",
       " <folium.vector_layers.CircleMarker at 0x7f39eff4f7f0>,\n",
       " <folium.vector_layers.CircleMarker at 0x7f39eff4f828>,\n",
       " <folium.vector_layers.CircleMarker at 0x7f39eff4f860>,\n",
       " <folium.vector_layers.CircleMarker at 0x7f39eff4f898>,\n",
       " <folium.vector_layers.CircleMarker at 0x7f39eff4f8d0>,\n",
       " <folium.vector_layers.CircleMarker at 0x7f39eff4f908>,\n",
       " <folium.vector_layers.CircleMarker at 0x7f39eff4f940>,\n",
       " <folium.vector_layers.CircleMarker at 0x7f39eff4f978>,\n",
       " <folium.vector_layers.CircleMarker at 0x7f39eff4f9b0>,\n",
       " <folium.vector_layers.CircleMarker at 0x7f39eff4f9e8>,\n",
       " <folium.vector_layers.CircleMarker at 0x7f39eff4fa20>,\n",
       " <folium.vector_layers.CircleMarker at 0x7f39eff4fa58>,\n",
       " <folium.vector_layers.CircleMarker at 0x7f39eff4fa90>,\n",
       " <folium.vector_layers.CircleMarker at 0x7f39eff4fac8>,\n",
       " <folium.vector_layers.CircleMarker at 0x7f39eff4fb00>,\n",
       " <folium.vector_layers.CircleMarker at 0x7f39eff4fb38>,\n",
       " <folium.vector_layers.CircleMarker at 0x7f39eff4fb70>,\n",
       " <folium.vector_layers.CircleMarker at 0x7f39eff4fba8>,\n",
       " <folium.vector_layers.CircleMarker at 0x7f39eff4fbe0>,\n",
       " <folium.vector_layers.CircleMarker at 0x7f39eff4fc18>,\n",
       " <folium.vector_layers.CircleMarker at 0x7f39eff4fc50>,\n",
       " <folium.vector_layers.CircleMarker at 0x7f39eff4fc88>,\n",
       " <folium.vector_layers.CircleMarker at 0x7f39eff4fcc0>,\n",
       " <folium.vector_layers.CircleMarker at 0x7f39eff4fcf8>,\n",
       " <folium.vector_layers.CircleMarker at 0x7f39eff4fd30>,\n",
       " <folium.vector_layers.CircleMarker at 0x7f39eff4fd68>,\n",
       " <folium.vector_layers.CircleMarker at 0x7f39eff4fda0>,\n",
       " <folium.vector_layers.CircleMarker at 0x7f39eff4fdd8>,\n",
       " <folium.vector_layers.CircleMarker at 0x7f39eff4fe10>,\n",
       " <folium.vector_layers.CircleMarker at 0x7f39eff4fe48>,\n",
       " <folium.vector_layers.CircleMarker at 0x7f39eff4fe80>,\n",
       " <folium.vector_layers.CircleMarker at 0x7f39eff4feb8>,\n",
       " <folium.vector_layers.CircleMarker at 0x7f39eff4fef0>,\n",
       " <folium.vector_layers.CircleMarker at 0x7f39eff4ff28>,\n",
       " <folium.vector_layers.CircleMarker at 0x7f39eff4ff60>,\n",
       " <folium.vector_layers.CircleMarker at 0x7f39eff4ff98>,\n",
       " <folium.vector_layers.CircleMarker at 0x7f39eff4ffd0>,\n",
       " <folium.vector_layers.CircleMarker at 0x7f39eff4f048>,\n",
       " <folium.vector_layers.CircleMarker at 0x7f39eff5c080>,\n",
       " <folium.vector_layers.CircleMarker at 0x7f39eff5c0b8>,\n",
       " <folium.vector_layers.CircleMarker at 0x7f39eff5c0f0>,\n",
       " <folium.vector_layers.CircleMarker at 0x7f39eff5c128>,\n",
       " <folium.vector_layers.CircleMarker at 0x7f39eff5c160>,\n",
       " <folium.vector_layers.CircleMarker at 0x7f39eff5c198>,\n",
       " <folium.vector_layers.CircleMarker at 0x7f39eff5c1d0>,\n",
       " <folium.vector_layers.CircleMarker at 0x7f39eff5c208>,\n",
       " <folium.vector_layers.CircleMarker at 0x7f39eff5c240>,\n",
       " <folium.vector_layers.CircleMarker at 0x7f39eff5c278>,\n",
       " <folium.vector_layers.CircleMarker at 0x7f39eff5c2b0>,\n",
       " <folium.vector_layers.CircleMarker at 0x7f39eff5c2e8>,\n",
       " <folium.vector_layers.CircleMarker at 0x7f39eff5c320>,\n",
       " <folium.vector_layers.CircleMarker at 0x7f39eff5c358>,\n",
       " <folium.vector_layers.CircleMarker at 0x7f39eff5c390>,\n",
       " <folium.vector_layers.CircleMarker at 0x7f39eff5c3c8>,\n",
       " <folium.vector_layers.CircleMarker at 0x7f39eff5c400>,\n",
       " <folium.vector_layers.CircleMarker at 0x7f39eff5c438>,\n",
       " <folium.vector_layers.CircleMarker at 0x7f39eff5c470>,\n",
       " <folium.vector_layers.CircleMarker at 0x7f39eff5c4a8>,\n",
       " <folium.vector_layers.CircleMarker at 0x7f39eff5c4e0>,\n",
       " <folium.vector_layers.CircleMarker at 0x7f39eff5c518>,\n",
       " <folium.vector_layers.CircleMarker at 0x7f39eff5c550>,\n",
       " <folium.vector_layers.CircleMarker at 0x7f39eff5c588>,\n",
       " <folium.vector_layers.CircleMarker at 0x7f39eff5c5c0>,\n",
       " <folium.vector_layers.CircleMarker at 0x7f39eff5c5f8>,\n",
       " <folium.vector_layers.CircleMarker at 0x7f39eff5c630>,\n",
       " <folium.vector_layers.CircleMarker at 0x7f39eff5c668>,\n",
       " <folium.vector_layers.CircleMarker at 0x7f39eff5c6a0>,\n",
       " <folium.vector_layers.CircleMarker at 0x7f39eff5c6d8>,\n",
       " <folium.vector_layers.CircleMarker at 0x7f39eff5c710>,\n",
       " <folium.vector_layers.CircleMarker at 0x7f39eff5c748>,\n",
       " <folium.vector_layers.CircleMarker at 0x7f39eff5c780>,\n",
       " <folium.vector_layers.CircleMarker at 0x7f39eff5c7b8>,\n",
       " <folium.vector_layers.CircleMarker at 0x7f39eff5c7f0>,\n",
       " <folium.vector_layers.CircleMarker at 0x7f39eff5c828>,\n",
       " <folium.vector_layers.CircleMarker at 0x7f39eff5c860>,\n",
       " <folium.vector_layers.CircleMarker at 0x7f39eff5c898>,\n",
       " <folium.vector_layers.CircleMarker at 0x7f39eff5c8d0>,\n",
       " <folium.vector_layers.CircleMarker at 0x7f39eff5c908>,\n",
       " <folium.vector_layers.CircleMarker at 0x7f39eff5c940>,\n",
       " <folium.vector_layers.CircleMarker at 0x7f39eff5c978>,\n",
       " <folium.vector_layers.CircleMarker at 0x7f39eff5c9b0>,\n",
       " <folium.vector_layers.CircleMarker at 0x7f39eff5c9e8>,\n",
       " <folium.vector_layers.CircleMarker at 0x7f39eff5ca20>,\n",
       " <folium.vector_layers.CircleMarker at 0x7f39eff5ca58>,\n",
       " <folium.vector_layers.CircleMarker at 0x7f39eff5ca90>,\n",
       " <folium.vector_layers.CircleMarker at 0x7f39eff5cac8>,\n",
       " <folium.vector_layers.CircleMarker at 0x7f39eff5cb00>,\n",
       " <folium.vector_layers.CircleMarker at 0x7f39eff5cb38>,\n",
       " <folium.vector_layers.CircleMarker at 0x7f39eff5cb70>,\n",
       " <folium.vector_layers.CircleMarker at 0x7f39eff5cba8>,\n",
       " <folium.vector_layers.CircleMarker at 0x7f39eff5cbe0>,\n",
       " <folium.vector_layers.CircleMarker at 0x7f39eff5cc18>,\n",
       " <folium.vector_layers.CircleMarker at 0x7f39eff5cc50>,\n",
       " <folium.vector_layers.CircleMarker at 0x7f39eff5cc88>,\n",
       " <folium.vector_layers.CircleMarker at 0x7f39eff5ccc0>,\n",
       " <folium.vector_layers.CircleMarker at 0x7f39eff5ccf8>,\n",
       " <folium.vector_layers.CircleMarker at 0x7f39eff5cd30>,\n",
       " <folium.vector_layers.CircleMarker at 0x7f39eff5cd68>,\n",
       " <folium.vector_layers.CircleMarker at 0x7f39eff5cda0>,\n",
       " <folium.vector_layers.CircleMarker at 0x7f39eff5cdd8>,\n",
       " <folium.vector_layers.CircleMarker at 0x7f39eff5ce10>,\n",
       " <folium.vector_layers.CircleMarker at 0x7f39eff5ce48>,\n",
       " <folium.vector_layers.CircleMarker at 0x7f39eff5ce80>,\n",
       " <folium.vector_layers.CircleMarker at 0x7f39eff5ceb8>,\n",
       " <folium.vector_layers.CircleMarker at 0x7f39eff5cef0>,\n",
       " <folium.vector_layers.CircleMarker at 0x7f39eff5cf28>,\n",
       " <folium.vector_layers.CircleMarker at 0x7f39eff5cf60>,\n",
       " <folium.vector_layers.CircleMarker at 0x7f39eff5cf98>,\n",
       " <folium.vector_layers.CircleMarker at 0x7f39eff5cfd0>,\n",
       " <folium.vector_layers.CircleMarker at 0x7f39eff5c048>,\n",
       " <folium.vector_layers.CircleMarker at 0x7f39eff6a080>,\n",
       " <folium.vector_layers.CircleMarker at 0x7f39eff6a0b8>,\n",
       " <folium.vector_layers.CircleMarker at 0x7f39eff6a0f0>,\n",
       " <folium.vector_layers.CircleMarker at 0x7f39eff6a128>,\n",
       " <folium.vector_layers.CircleMarker at 0x7f39eff6a160>,\n",
       " <folium.vector_layers.CircleMarker at 0x7f39eff6a198>,\n",
       " <folium.vector_layers.CircleMarker at 0x7f39eff6a1d0>,\n",
       " <folium.vector_layers.CircleMarker at 0x7f39eff6a208>,\n",
       " <folium.vector_layers.CircleMarker at 0x7f39eff6a240>,\n",
       " <folium.vector_layers.CircleMarker at 0x7f39eff6a278>,\n",
       " <folium.vector_layers.CircleMarker at 0x7f39eff6a2b0>,\n",
       " <folium.vector_layers.CircleMarker at 0x7f39eff6a2e8>,\n",
       " <folium.vector_layers.CircleMarker at 0x7f39eff6a320>,\n",
       " <folium.vector_layers.CircleMarker at 0x7f39eff6a358>,\n",
       " <folium.vector_layers.CircleMarker at 0x7f39eff6a390>,\n",
       " <folium.vector_layers.CircleMarker at 0x7f39eff6a3c8>,\n",
       " <folium.vector_layers.CircleMarker at 0x7f39eff6a400>,\n",
       " <folium.vector_layers.CircleMarker at 0x7f39eff6a438>,\n",
       " <folium.vector_layers.CircleMarker at 0x7f39eff6a470>,\n",
       " <folium.vector_layers.CircleMarker at 0x7f39eff6a4a8>,\n",
       " <folium.vector_layers.CircleMarker at 0x7f39eff6a4e0>,\n",
       " <folium.vector_layers.CircleMarker at 0x7f39eff6a518>,\n",
       " <folium.vector_layers.CircleMarker at 0x7f39eff6a550>,\n",
       " <folium.vector_layers.CircleMarker at 0x7f39eff6a588>,\n",
       " <folium.vector_layers.CircleMarker at 0x7f39eff6a5c0>,\n",
       " <folium.vector_layers.CircleMarker at 0x7f39eff6a5f8>,\n",
       " <folium.vector_layers.CircleMarker at 0x7f39eff6a630>,\n",
       " <folium.vector_layers.CircleMarker at 0x7f39eff6a668>,\n",
       " <folium.vector_layers.CircleMarker at 0x7f39eff6a6a0>,\n",
       " <folium.vector_layers.CircleMarker at 0x7f39eff6a6d8>,\n",
       " <folium.vector_layers.CircleMarker at 0x7f39eff6a710>,\n",
       " <folium.vector_layers.CircleMarker at 0x7f39eff6a748>,\n",
       " <folium.vector_layers.CircleMarker at 0x7f39eff6a780>,\n",
       " <folium.vector_layers.CircleMarker at 0x7f39eff6a7b8>,\n",
       " <folium.vector_layers.CircleMarker at 0x7f39eff6a7f0>,\n",
       " <folium.vector_layers.CircleMarker at 0x7f39eff6a828>,\n",
       " <folium.vector_layers.CircleMarker at 0x7f39eff6a860>,\n",
       " <folium.vector_layers.CircleMarker at 0x7f39eff6a898>,\n",
       " <folium.vector_layers.CircleMarker at 0x7f39eff6a8d0>,\n",
       " <folium.vector_layers.CircleMarker at 0x7f39eff6a908>,\n",
       " <folium.vector_layers.CircleMarker at 0x7f39eff6a940>,\n",
       " <folium.vector_layers.CircleMarker at 0x7f39eff6a978>,\n",
       " <folium.vector_layers.CircleMarker at 0x7f39eff6a9b0>,\n",
       " <folium.vector_layers.CircleMarker at 0x7f39eff6a9e8>,\n",
       " <folium.vector_layers.CircleMarker at 0x7f39eff6aa20>,\n",
       " <folium.vector_layers.CircleMarker at 0x7f39eff6aa58>,\n",
       " <folium.vector_layers.CircleMarker at 0x7f39eff6aa90>,\n",
       " <folium.vector_layers.CircleMarker at 0x7f39eff6aac8>,\n",
       " <folium.vector_layers.CircleMarker at 0x7f39eff6ab00>,\n",
       " <folium.vector_layers.CircleMarker at 0x7f39eff6ab38>,\n",
       " <folium.vector_layers.CircleMarker at 0x7f39eff6ab70>,\n",
       " <folium.vector_layers.CircleMarker at 0x7f39eff6aba8>,\n",
       " <folium.vector_layers.CircleMarker at 0x7f39eff6abe0>,\n",
       " <folium.vector_layers.CircleMarker at 0x7f39eff6ac18>,\n",
       " <folium.vector_layers.CircleMarker at 0x7f39eff6ac50>,\n",
       " <folium.vector_layers.CircleMarker at 0x7f39eff6ac88>,\n",
       " <folium.vector_layers.CircleMarker at 0x7f39eff6acc0>,\n",
       " <folium.vector_layers.CircleMarker at 0x7f39eff6acf8>,\n",
       " <folium.vector_layers.CircleMarker at 0x7f39eff6ad30>,\n",
       " <folium.vector_layers.CircleMarker at 0x7f39eff6ad68>,\n",
       " <folium.vector_layers.CircleMarker at 0x7f39eff6ada0>,\n",
       " <folium.vector_layers.CircleMarker at 0x7f39eff6add8>,\n",
       " <folium.vector_layers.CircleMarker at 0x7f39eff6ae10>,\n",
       " <folium.vector_layers.CircleMarker at 0x7f39eff6ae48>,\n",
       " <folium.vector_layers.CircleMarker at 0x7f39eff6ae80>,\n",
       " <folium.vector_layers.CircleMarker at 0x7f39eff6aeb8>,\n",
       " <folium.vector_layers.CircleMarker at 0x7f39eff6aef0>,\n",
       " <folium.vector_layers.CircleMarker at 0x7f39eff6af28>,\n",
       " <folium.vector_layers.CircleMarker at 0x7f39eff6af60>,\n",
       " <folium.vector_layers.CircleMarker at 0x7f39eff6af98>,\n",
       " <folium.vector_layers.CircleMarker at 0x7f39eff6afd0>,\n",
       " <folium.vector_layers.CircleMarker at 0x7f39eff6a048>,\n",
       " <folium.vector_layers.CircleMarker at 0x7f39eff79048>,\n",
       " <folium.vector_layers.CircleMarker at 0x7f39eff790b8>,\n",
       " <folium.vector_layers.CircleMarker at 0x7f39eff790f0>,\n",
       " <folium.vector_layers.CircleMarker at 0x7f39eff79128>,\n",
       " <folium.vector_layers.CircleMarker at 0x7f39eff79160>,\n",
       " <folium.vector_layers.CircleMarker at 0x7f39eff79198>,\n",
       " <folium.vector_layers.CircleMarker at 0x7f39eff791d0>,\n",
       " <folium.vector_layers.CircleMarker at 0x7f39eff79208>,\n",
       " <folium.vector_layers.CircleMarker at 0x7f39eff79240>,\n",
       " <folium.vector_layers.CircleMarker at 0x7f39eff79278>,\n",
       " <folium.vector_layers.CircleMarker at 0x7f39eff792b0>,\n",
       " <folium.vector_layers.CircleMarker at 0x7f39eff792e8>,\n",
       " <folium.vector_layers.CircleMarker at 0x7f39eff79320>,\n",
       " <folium.vector_layers.CircleMarker at 0x7f39eff79358>,\n",
       " <folium.vector_layers.CircleMarker at 0x7f39eff79390>,\n",
       " <folium.vector_layers.CircleMarker at 0x7f39eff793c8>,\n",
       " <folium.vector_layers.CircleMarker at 0x7f39eff79400>,\n",
       " <folium.vector_layers.CircleMarker at 0x7f39eff79438>,\n",
       " <folium.vector_layers.CircleMarker at 0x7f39eff79470>,\n",
       " <folium.vector_layers.CircleMarker at 0x7f39eff794a8>,\n",
       " <folium.vector_layers.CircleMarker at 0x7f39eff794e0>,\n",
       " <folium.vector_layers.CircleMarker at 0x7f39eff79518>,\n",
       " <folium.vector_layers.CircleMarker at 0x7f39eff79550>,\n",
       " <folium.vector_layers.CircleMarker at 0x7f39eff79588>,\n",
       " <folium.vector_layers.CircleMarker at 0x7f39eff795c0>,\n",
       " <folium.vector_layers.CircleMarker at 0x7f39eff795f8>,\n",
       " <folium.vector_layers.CircleMarker at 0x7f39eff79630>,\n",
       " <folium.vector_layers.CircleMarker at 0x7f39eff79668>,\n",
       " <folium.vector_layers.CircleMarker at 0x7f39eff796a0>,\n",
       " <folium.vector_layers.CircleMarker at 0x7f39eff796d8>,\n",
       " <folium.vector_layers.CircleMarker at 0x7f39eff79710>,\n",
       " <folium.vector_layers.CircleMarker at 0x7f39eff79748>,\n",
       " <folium.vector_layers.CircleMarker at 0x7f39eff79780>,\n",
       " <folium.vector_layers.CircleMarker at 0x7f39eff797b8>,\n",
       " <folium.vector_layers.CircleMarker at 0x7f39eff797f0>,\n",
       " <folium.vector_layers.CircleMarker at 0x7f39eff79828>,\n",
       " <folium.vector_layers.CircleMarker at 0x7f39eff79860>,\n",
       " <folium.vector_layers.CircleMarker at 0x7f39eff79898>,\n",
       " <folium.vector_layers.CircleMarker at 0x7f39eff798d0>,\n",
       " <folium.vector_layers.CircleMarker at 0x7f39eff79908>,\n",
       " <folium.vector_layers.CircleMarker at 0x7f39eff79940>,\n",
       " <folium.vector_layers.CircleMarker at 0x7f39eff79978>,\n",
       " <folium.vector_layers.CircleMarker at 0x7f39eff799b0>,\n",
       " <folium.vector_layers.CircleMarker at 0x7f39eff799e8>,\n",
       " <folium.vector_layers.CircleMarker at 0x7f39eff79a20>,\n",
       " <folium.vector_layers.CircleMarker at 0x7f39eff79a58>,\n",
       " <folium.vector_layers.CircleMarker at 0x7f39eff79a90>,\n",
       " <folium.vector_layers.CircleMarker at 0x7f39eff79ac8>,\n",
       " <folium.vector_layers.CircleMarker at 0x7f39eff79b00>,\n",
       " <folium.vector_layers.CircleMarker at 0x7f39eff79b38>,\n",
       " <folium.vector_layers.CircleMarker at 0x7f39eff79b70>,\n",
       " <folium.vector_layers.CircleMarker at 0x7f39eff79ba8>,\n",
       " <folium.vector_layers.CircleMarker at 0x7f39eff79be0>,\n",
       " <folium.vector_layers.CircleMarker at 0x7f39eff79c18>,\n",
       " <folium.vector_layers.CircleMarker at 0x7f39eff79c50>,\n",
       " <folium.vector_layers.CircleMarker at 0x7f39eff79c88>,\n",
       " <folium.vector_layers.CircleMarker at 0x7f39eff79cc0>,\n",
       " <folium.vector_layers.CircleMarker at 0x7f39eff79cf8>,\n",
       " <folium.vector_layers.CircleMarker at 0x7f39eff79d30>,\n",
       " <folium.vector_layers.CircleMarker at 0x7f39eff79d68>,\n",
       " <folium.vector_layers.CircleMarker at 0x7f39eff79da0>,\n",
       " <folium.vector_layers.CircleMarker at 0x7f39eff79dd8>,\n",
       " <folium.vector_layers.CircleMarker at 0x7f39eff79e10>,\n",
       " <folium.vector_layers.CircleMarker at 0x7f39eff79e48>,\n",
       " <folium.vector_layers.CircleMarker at 0x7f39eff79e80>,\n",
       " <folium.vector_layers.CircleMarker at 0x7f39eff79eb8>,\n",
       " <folium.vector_layers.CircleMarker at 0x7f39eff79ef0>,\n",
       " <folium.vector_layers.CircleMarker at 0x7f39eff79f28>,\n",
       " <folium.vector_layers.CircleMarker at 0x7f39eff79f60>,\n",
       " <folium.vector_layers.CircleMarker at 0x7f39eff79f98>,\n",
       " <folium.vector_layers.CircleMarker at 0x7f39eff79fd0>,\n",
       " <folium.vector_layers.CircleMarker at 0x7f39eff79080>,\n",
       " <folium.vector_layers.CircleMarker at 0x7f39eff06080>,\n",
       " <folium.vector_layers.CircleMarker at 0x7f39eff060b8>,\n",
       " <folium.vector_layers.CircleMarker at 0x7f39eff060f0>,\n",
       " <folium.vector_layers.CircleMarker at 0x7f39eff06128>,\n",
       " <folium.vector_layers.CircleMarker at 0x7f39eff06160>,\n",
       " <folium.vector_layers.CircleMarker at 0x7f39eff06198>,\n",
       " <folium.vector_layers.CircleMarker at 0x7f39eff061d0>,\n",
       " <folium.vector_layers.CircleMarker at 0x7f39eff06208>,\n",
       " <folium.vector_layers.CircleMarker at 0x7f39eff06240>,\n",
       " <folium.vector_layers.CircleMarker at 0x7f39eff06278>,\n",
       " <folium.vector_layers.CircleMarker at 0x7f39eff062b0>,\n",
       " <folium.vector_layers.CircleMarker at 0x7f39eff062e8>,\n",
       " <folium.vector_layers.CircleMarker at 0x7f39eff06320>,\n",
       " <folium.vector_layers.CircleMarker at 0x7f39eff06358>,\n",
       " <folium.vector_layers.CircleMarker at 0x7f39eff06390>,\n",
       " <folium.vector_layers.CircleMarker at 0x7f39eff063c8>,\n",
       " <folium.vector_layers.CircleMarker at 0x7f39eff06400>,\n",
       " <folium.vector_layers.CircleMarker at 0x7f39eff06438>,\n",
       " <folium.vector_layers.CircleMarker at 0x7f39eff06470>,\n",
       " <folium.vector_layers.CircleMarker at 0x7f39eff064a8>,\n",
       " <folium.vector_layers.CircleMarker at 0x7f39eff064e0>,\n",
       " <folium.vector_layers.CircleMarker at 0x7f39eff06518>,\n",
       " <folium.vector_layers.CircleMarker at 0x7f39eff06550>,\n",
       " <folium.vector_layers.CircleMarker at 0x7f39eff06588>,\n",
       " <folium.vector_layers.CircleMarker at 0x7f39eff065c0>,\n",
       " <folium.vector_layers.CircleMarker at 0x7f39eff065f8>,\n",
       " <folium.vector_layers.CircleMarker at 0x7f39eff06630>,\n",
       " <folium.vector_layers.CircleMarker at 0x7f39eff06668>,\n",
       " <folium.vector_layers.CircleMarker at 0x7f39eff066a0>,\n",
       " <folium.vector_layers.CircleMarker at 0x7f39eff066d8>,\n",
       " <folium.vector_layers.CircleMarker at 0x7f39eff06710>,\n",
       " <folium.vector_layers.CircleMarker at 0x7f39eff06748>,\n",
       " <folium.vector_layers.CircleMarker at 0x7f39eff06780>,\n",
       " <folium.vector_layers.CircleMarker at 0x7f39eff067b8>,\n",
       " <folium.vector_layers.CircleMarker at 0x7f39eff067f0>,\n",
       " <folium.vector_layers.CircleMarker at 0x7f39eff06828>,\n",
       " <folium.vector_layers.CircleMarker at 0x7f39eff06860>,\n",
       " <folium.vector_layers.CircleMarker at 0x7f39eff06898>,\n",
       " <folium.vector_layers.CircleMarker at 0x7f39eff068d0>,\n",
       " <folium.vector_layers.CircleMarker at 0x7f39eff06908>,\n",
       " <folium.vector_layers.CircleMarker at 0x7f39eff06940>,\n",
       " <folium.vector_layers.CircleMarker at 0x7f39eff06978>,\n",
       " <folium.vector_layers.CircleMarker at 0x7f39eff069b0>,\n",
       " <folium.vector_layers.CircleMarker at 0x7f39eff069e8>,\n",
       " <folium.vector_layers.CircleMarker at 0x7f39eff06a20>,\n",
       " <folium.vector_layers.CircleMarker at 0x7f39eff06a58>,\n",
       " <folium.vector_layers.CircleMarker at 0x7f39eff06a90>,\n",
       " <folium.vector_layers.CircleMarker at 0x7f39eff06ac8>,\n",
       " <folium.vector_layers.CircleMarker at 0x7f39eff06b00>,\n",
       " <folium.vector_layers.CircleMarker at 0x7f39eff06b38>,\n",
       " <folium.vector_layers.CircleMarker at 0x7f39eff06b70>,\n",
       " <folium.vector_layers.CircleMarker at 0x7f39eff06ba8>,\n",
       " <folium.vector_layers.CircleMarker at 0x7f39eff06be0>,\n",
       " <folium.vector_layers.CircleMarker at 0x7f39eff06c18>,\n",
       " <folium.vector_layers.CircleMarker at 0x7f39eff06c50>,\n",
       " <folium.vector_layers.CircleMarker at 0x7f39eff06c88>,\n",
       " <folium.vector_layers.CircleMarker at 0x7f39eff06cc0>,\n",
       " <folium.vector_layers.CircleMarker at 0x7f39eff06cf8>,\n",
       " <folium.vector_layers.CircleMarker at 0x7f39eff06d30>,\n",
       " <folium.vector_layers.CircleMarker at 0x7f39eff06d68>,\n",
       " <folium.vector_layers.CircleMarker at 0x7f39eff06da0>,\n",
       " <folium.vector_layers.CircleMarker at 0x7f39eff06dd8>,\n",
       " <folium.vector_layers.CircleMarker at 0x7f39eff06e10>,\n",
       " <folium.vector_layers.CircleMarker at 0x7f39eff06e48>,\n",
       " <folium.vector_layers.CircleMarker at 0x7f39eff06e80>,\n",
       " <folium.vector_layers.CircleMarker at 0x7f39eff06eb8>,\n",
       " <folium.vector_layers.CircleMarker at 0x7f39eff06ef0>,\n",
       " <folium.vector_layers.CircleMarker at 0x7f39eff06f28>,\n",
       " <folium.vector_layers.CircleMarker at 0x7f39eff06f60>,\n",
       " <folium.vector_layers.CircleMarker at 0x7f39eff06f98>,\n",
       " <folium.vector_layers.CircleMarker at 0x7f39eff06fd0>,\n",
       " <folium.vector_layers.CircleMarker at 0x7f39eff06048>,\n",
       " <folium.vector_layers.CircleMarker at 0x7f39eff14048>,\n",
       " <folium.vector_layers.CircleMarker at 0x7f39eff140b8>,\n",
       " <folium.vector_layers.CircleMarker at 0x7f39eff140f0>,\n",
       " <folium.vector_layers.CircleMarker at 0x7f39eff14128>,\n",
       " <folium.vector_layers.CircleMarker at 0x7f39eff14160>,\n",
       " <folium.vector_layers.CircleMarker at 0x7f39eff14198>,\n",
       " <folium.vector_layers.CircleMarker at 0x7f39eff141d0>,\n",
       " <folium.vector_layers.CircleMarker at 0x7f39eff14208>,\n",
       " <folium.vector_layers.CircleMarker at 0x7f39eff14240>,\n",
       " <folium.vector_layers.CircleMarker at 0x7f39eff14278>,\n",
       " <folium.vector_layers.CircleMarker at 0x7f39eff142b0>,\n",
       " <folium.vector_layers.CircleMarker at 0x7f39eff142e8>,\n",
       " <folium.vector_layers.CircleMarker at 0x7f39eff14320>,\n",
       " <folium.vector_layers.CircleMarker at 0x7f39eff14358>,\n",
       " <folium.vector_layers.CircleMarker at 0x7f39eff14390>,\n",
       " <folium.vector_layers.CircleMarker at 0x7f39eff143c8>,\n",
       " <folium.vector_layers.CircleMarker at 0x7f39eff14400>,\n",
       " <folium.vector_layers.CircleMarker at 0x7f39eff14438>,\n",
       " <folium.vector_layers.CircleMarker at 0x7f39eff14470>,\n",
       " <folium.vector_layers.CircleMarker at 0x7f39eff144a8>,\n",
       " <folium.vector_layers.CircleMarker at 0x7f39eff144e0>,\n",
       " <folium.vector_layers.CircleMarker at 0x7f39eff14518>,\n",
       " <folium.vector_layers.CircleMarker at 0x7f39eff14550>,\n",
       " <folium.vector_layers.CircleMarker at 0x7f39eff14588>,\n",
       " <folium.vector_layers.CircleMarker at 0x7f39eff145c0>,\n",
       " <folium.vector_layers.CircleMarker at 0x7f39eff145f8>,\n",
       " <folium.vector_layers.CircleMarker at 0x7f39eff14630>,\n",
       " <folium.vector_layers.CircleMarker at 0x7f39eff14668>,\n",
       " <folium.vector_layers.CircleMarker at 0x7f39eff146a0>,\n",
       " <folium.vector_layers.CircleMarker at 0x7f39eff146d8>,\n",
       " <folium.vector_layers.CircleMarker at 0x7f39eff14710>,\n",
       " <folium.vector_layers.CircleMarker at 0x7f39eff14748>,\n",
       " <folium.vector_layers.CircleMarker at 0x7f39eff14780>,\n",
       " <folium.vector_layers.CircleMarker at 0x7f39eff147b8>,\n",
       " <folium.vector_layers.CircleMarker at 0x7f39eff147f0>,\n",
       " <folium.vector_layers.CircleMarker at 0x7f39eff14828>,\n",
       " <folium.vector_layers.CircleMarker at 0x7f39eff14860>,\n",
       " <folium.vector_layers.CircleMarker at 0x7f39eff14898>,\n",
       " <folium.vector_layers.CircleMarker at 0x7f39eff148d0>,\n",
       " <folium.vector_layers.CircleMarker at 0x7f39eff14908>,\n",
       " <folium.vector_layers.CircleMarker at 0x7f39eff14940>,\n",
       " <folium.vector_layers.CircleMarker at 0x7f39eff14978>,\n",
       " <folium.vector_layers.CircleMarker at 0x7f39eff149b0>,\n",
       " <folium.vector_layers.CircleMarker at 0x7f39eff149e8>,\n",
       " <folium.vector_layers.CircleMarker at 0x7f39eff14a20>,\n",
       " <folium.vector_layers.CircleMarker at 0x7f39eff14a58>,\n",
       " <folium.vector_layers.CircleMarker at 0x7f39eff14a90>,\n",
       " <folium.vector_layers.CircleMarker at 0x7f39eff14ac8>,\n",
       " <folium.vector_layers.CircleMarker at 0x7f39eff14b00>,\n",
       " <folium.vector_layers.CircleMarker at 0x7f39eff14b38>,\n",
       " <folium.vector_layers.CircleMarker at 0x7f39eff14b70>,\n",
       " <folium.vector_layers.CircleMarker at 0x7f39eff14ba8>,\n",
       " <folium.vector_layers.CircleMarker at 0x7f39eff14be0>,\n",
       " <folium.vector_layers.CircleMarker at 0x7f39eff14c18>,\n",
       " <folium.vector_layers.CircleMarker at 0x7f39eff14c50>,\n",
       " <folium.vector_layers.CircleMarker at 0x7f39eff14c88>,\n",
       " <folium.vector_layers.CircleMarker at 0x7f39eff14cc0>,\n",
       " <folium.vector_layers.CircleMarker at 0x7f39eff14cf8>,\n",
       " <folium.vector_layers.CircleMarker at 0x7f39eff14d30>,\n",
       " <folium.vector_layers.CircleMarker at 0x7f39eff14d68>,\n",
       " <folium.vector_layers.CircleMarker at 0x7f39eff14da0>,\n",
       " <folium.vector_layers.CircleMarker at 0x7f39eff14dd8>,\n",
       " <folium.vector_layers.CircleMarker at 0x7f39eff14e10>,\n",
       " <folium.vector_layers.CircleMarker at 0x7f39eff14e48>,\n",
       " <folium.vector_layers.CircleMarker at 0x7f39eff14e80>,\n",
       " <folium.vector_layers.CircleMarker at 0x7f39eff14eb8>,\n",
       " <folium.vector_layers.CircleMarker at 0x7f39eff14ef0>,\n",
       " <folium.vector_layers.CircleMarker at 0x7f39eff14f28>,\n",
       " <folium.vector_layers.CircleMarker at 0x7f39eff14f60>,\n",
       " <folium.vector_layers.CircleMarker at 0x7f39eff14f98>,\n",
       " <folium.vector_layers.CircleMarker at 0x7f39eff14fd0>,\n",
       " <folium.vector_layers.CircleMarker at 0x7f39eff14080>,\n",
       " <folium.vector_layers.CircleMarker at 0x7f39eff21080>,\n",
       " <folium.vector_layers.CircleMarker at 0x7f39eff210b8>,\n",
       " <folium.vector_layers.CircleMarker at 0x7f39eff210f0>,\n",
       " <folium.vector_layers.CircleMarker at 0x7f39eff21128>,\n",
       " <folium.vector_layers.CircleMarker at 0x7f39eff21160>,\n",
       " <folium.vector_layers.CircleMarker at 0x7f39eff21198>,\n",
       " <folium.vector_layers.CircleMarker at 0x7f39eff211d0>,\n",
       " <folium.vector_layers.CircleMarker at 0x7f39eff21208>,\n",
       " <folium.vector_layers.CircleMarker at 0x7f39eff21240>,\n",
       " <folium.vector_layers.CircleMarker at 0x7f39eff21278>,\n",
       " <folium.vector_layers.CircleMarker at 0x7f39eff212b0>,\n",
       " <folium.vector_layers.CircleMarker at 0x7f39eff212e8>,\n",
       " <folium.vector_layers.CircleMarker at 0x7f39eff21320>,\n",
       " <folium.vector_layers.CircleMarker at 0x7f39eff21358>,\n",
       " <folium.vector_layers.CircleMarker at 0x7f39eff21390>,\n",
       " <folium.vector_layers.CircleMarker at 0x7f39eff213c8>,\n",
       " <folium.vector_layers.CircleMarker at 0x7f39eff21400>,\n",
       " <folium.vector_layers.CircleMarker at 0x7f39eff21438>,\n",
       " <folium.vector_layers.CircleMarker at 0x7f39eff21470>,\n",
       " <folium.vector_layers.CircleMarker at 0x7f39eff214a8>,\n",
       " <folium.vector_layers.CircleMarker at 0x7f39eff214e0>,\n",
       " <folium.vector_layers.CircleMarker at 0x7f39eff21518>,\n",
       " <folium.vector_layers.CircleMarker at 0x7f39eff21550>,\n",
       " <folium.vector_layers.CircleMarker at 0x7f39eff21588>,\n",
       " <folium.vector_layers.CircleMarker at 0x7f39eff215c0>,\n",
       " <folium.vector_layers.CircleMarker at 0x7f39eff215f8>,\n",
       " <folium.vector_layers.CircleMarker at 0x7f39eff21630>,\n",
       " <folium.vector_layers.CircleMarker at 0x7f39eff21668>,\n",
       " <folium.vector_layers.CircleMarker at 0x7f39eff216a0>,\n",
       " <folium.vector_layers.CircleMarker at 0x7f39eff216d8>,\n",
       " <folium.vector_layers.CircleMarker at 0x7f39eff21710>,\n",
       " <folium.vector_layers.CircleMarker at 0x7f39eff21748>,\n",
       " <folium.vector_layers.CircleMarker at 0x7f39eff21780>,\n",
       " <folium.vector_layers.CircleMarker at 0x7f39eff217b8>,\n",
       " <folium.vector_layers.CircleMarker at 0x7f39eff217f0>,\n",
       " <folium.vector_layers.CircleMarker at 0x7f39eff21828>,\n",
       " <folium.vector_layers.CircleMarker at 0x7f39eff21860>,\n",
       " <folium.vector_layers.CircleMarker at 0x7f39eff21898>,\n",
       " <folium.vector_layers.CircleMarker at 0x7f39eff218d0>,\n",
       " <folium.vector_layers.CircleMarker at 0x7f39eff21908>,\n",
       " <folium.vector_layers.CircleMarker at 0x7f39eff21940>,\n",
       " <folium.vector_layers.CircleMarker at 0x7f39eff21978>,\n",
       " <folium.vector_layers.CircleMarker at 0x7f39eff219b0>,\n",
       " <folium.vector_layers.CircleMarker at 0x7f39eff219e8>,\n",
       " <folium.vector_layers.CircleMarker at 0x7f39eff21a20>,\n",
       " <folium.vector_layers.CircleMarker at 0x7f39eff21a58>,\n",
       " <folium.vector_layers.CircleMarker at 0x7f39eff21a90>,\n",
       " <folium.vector_layers.CircleMarker at 0x7f39eff21ac8>,\n",
       " <folium.vector_layers.CircleMarker at 0x7f39eff21b00>,\n",
       " <folium.vector_layers.CircleMarker at 0x7f39eff21b38>,\n",
       " <folium.vector_layers.CircleMarker at 0x7f39eff21b70>,\n",
       " <folium.vector_layers.CircleMarker at 0x7f39eff21ba8>,\n",
       " <folium.vector_layers.CircleMarker at 0x7f39eff21be0>,\n",
       " <folium.vector_layers.CircleMarker at 0x7f39eff21c18>,\n",
       " <folium.vector_layers.CircleMarker at 0x7f39eff21c50>,\n",
       " <folium.vector_layers.CircleMarker at 0x7f39eff21c88>,\n",
       " <folium.vector_layers.CircleMarker at 0x7f39eff21cc0>,\n",
       " <folium.vector_layers.CircleMarker at 0x7f39eff21cf8>,\n",
       " <folium.vector_layers.CircleMarker at 0x7f39eff21d30>,\n",
       " <folium.vector_layers.CircleMarker at 0x7f39eff21d68>,\n",
       " <folium.vector_layers.CircleMarker at 0x7f39eff21da0>,\n",
       " <folium.vector_layers.CircleMarker at 0x7f39eff21dd8>,\n",
       " <folium.vector_layers.CircleMarker at 0x7f39eff21e10>,\n",
       " <folium.vector_layers.CircleMarker at 0x7f39eff21e48>,\n",
       " <folium.vector_layers.CircleMarker at 0x7f39eff21e80>,\n",
       " <folium.vector_layers.CircleMarker at 0x7f39eff21eb8>,\n",
       " <folium.vector_layers.CircleMarker at 0x7f39eff21ef0>,\n",
       " <folium.vector_layers.CircleMarker at 0x7f39eff21f28>,\n",
       " <folium.vector_layers.CircleMarker at 0x7f39eff21f60>,\n",
       " <folium.vector_layers.CircleMarker at 0x7f39eff21f98>,\n",
       " <folium.vector_layers.CircleMarker at 0x7f39eff21fd0>,\n",
       " <folium.vector_layers.CircleMarker at 0x7f39eff21048>,\n",
       " <folium.vector_layers.CircleMarker at 0x7f39eff2f080>,\n",
       " <folium.vector_layers.CircleMarker at 0x7f39eff2f0b8>,\n",
       " <folium.vector_layers.CircleMarker at 0x7f39eff2f0f0>,\n",
       " <folium.vector_layers.CircleMarker at 0x7f39eff2f128>,\n",
       " <folium.vector_layers.CircleMarker at 0x7f39eff2f160>,\n",
       " <folium.vector_layers.CircleMarker at 0x7f39eff2f198>,\n",
       " <folium.vector_layers.CircleMarker at 0x7f39eff2f1d0>,\n",
       " <folium.vector_layers.CircleMarker at 0x7f39eff2f208>,\n",
       " <folium.vector_layers.CircleMarker at 0x7f39eff2f240>,\n",
       " <folium.vector_layers.CircleMarker at 0x7f39eff2f278>,\n",
       " <folium.vector_layers.CircleMarker at 0x7f39eff2f2b0>,\n",
       " <folium.vector_layers.CircleMarker at 0x7f39eff2f2e8>,\n",
       " <folium.vector_layers.CircleMarker at 0x7f39eff2f320>]"
      ]
     },
     "execution_count": 131,
     "metadata": {},
     "output_type": "execute_result"
    }
   ],
   "source": [
    "trip_markers"
   ]
  },
  {
   "cell_type": "markdown",
   "metadata": {},
   "source": [
    "Ok, now that we have a function that creates locations, and a function that creates markers, it is time to write a function to plot a map. \n",
    "\n",
    "Write a function called `map_from` that, provided the first argument of a list location and second argument an integer representing the `zoom_start`, returns a `folium` map the corresponding location and `zoom_start` attributes.\n",
    "\n",
    "> Hint: The following is how to write a map with folium:\n",
    "> ```python \n",
    "    folium.Map(location=location, zoom_start=zoom_amount)\n",
    "> ```"
   ]
  },
  {
   "cell_type": "code",
   "execution_count": 112,
   "metadata": {},
   "outputs": [],
   "source": [
    "def map_from(spot, zoom_amount):\n",
    "    return folium.Map(location = spot, zoom_start = zoom_amount)"
   ]
  },
  {
   "cell_type": "code",
   "execution_count": 114,
   "metadata": {},
   "outputs": [
    {
     "data": {
      "text/plain": [
       "[40.7589, -73.9851]"
      ]
     },
     "execution_count": 114,
     "metadata": {},
     "output_type": "execute_result"
    }
   ],
   "source": [
    "times_square_map = map_from([40.7589, -73.9851], 15)\n",
    "times_square_map and times_square_map.location # [40.7589, -73.9851]\n",
    "#times_square_map and times_square_map.zoom_start # 15"
   ]
  },
  {
   "cell_type": "code",
   "execution_count": 115,
   "metadata": {
    "scrolled": true
   },
   "outputs": [
    {
     "data": {
      "text/html": [
       "<div style=\"width:100%;\"><div style=\"position:relative;width:100%;height:0;padding-bottom:60%;\"><iframe src=\"data:text/html;charset=utf-8;base64,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\" style=\"position:absolute;width:100%;height:100%;left:0;top:0;border:none !important;\" allowfullscreen webkitallowfullscreen mozallowfullscreen></iframe></div></div>"
      ],
      "text/plain": [
       "<folium.folium.Map at 0x7f39eff2f710>"
      ]
     },
     "execution_count": 115,
     "metadata": {},
     "output_type": "execute_result"
    }
   ],
   "source": [
    "times_square_marker and times_square_marker.add_to(times_square_map)\n",
    "times_square_map"
   ]
  },
  {
   "cell_type": "markdown",
   "metadata": {},
   "source": [
    "Now that we have a marker and a map, now let's write a function that adds a lot of markers to a map.  This function should add each marker in the list to the map object then return the updated map object."
   ]
  },
  {
   "cell_type": "code",
   "execution_count": 116,
   "metadata": {},
   "outputs": [],
   "source": [
    "manhattan_map = map_from([40.7589, -73.9851], 13)"
   ]
  },
  {
   "cell_type": "code",
   "execution_count": 132,
   "metadata": {},
   "outputs": [],
   "source": [
    "def add_markers(markers, map_obj):\n",
    "    for marker in markers:\n",
    "        marker.add_to(map_obj)\n",
    "    pass"
   ]
  },
  {
   "cell_type": "code",
   "execution_count": 133,
   "metadata": {},
   "outputs": [
    {
     "data": {
      "text/plain": [
       "<folium.vector_layers.CircleMarker at 0x7f39effde518>"
      ]
     },
     "execution_count": 133,
     "metadata": {},
     "output_type": "execute_result"
    }
   ],
   "source": [
    "trip_markers[0]"
   ]
  },
  {
   "cell_type": "code",
   "execution_count": 136,
   "metadata": {
    "scrolled": false
   },
   "outputs": [],
   "source": [
    "map_with_markers = add_markers(trip_markers, manhattan_map)"
   ]
  },
  {
   "cell_type": "code",
   "execution_count": 137,
   "metadata": {},
   "outputs": [],
   "source": [
    "map_with_markers"
   ]
  },
  {
   "cell_type": "markdown",
   "metadata": {},
   "source": [
    "### Using Nearest Neighbors"
   ]
  },
  {
   "cell_type": "markdown",
   "metadata": {},
   "source": [
    "Ok, let's write a function that given a latitude and longitude will predict the distance for us.  We'll do this by first finding the nearest trips given a latitude and longitude. "
   ]
  },
  {
   "cell_type": "markdown",
   "metadata": {},
   "source": [
    "Here we once again apply the nearest neighbors formula. As a first step, write a function named `distance_location` that calculates the distance in pickup location between two trips."
   ]
  },
  {
   "cell_type": "code",
   "execution_count": null,
   "metadata": {},
   "outputs": [],
   "source": [
    "import math\n",
    "\n",
    "def distance_location(selected_trip, neighbor_trip):\n",
    "    pass"
   ]
  },
  {
   "cell_type": "code",
   "execution_count": null,
   "metadata": {},
   "outputs": [],
   "source": [
    "first_trip = {'pickup_latitude': 40.64499, 'pickup_longitude': -73.78115, 'trip_distance': 18.38}\n",
    "second_trip = {'pickup_latitude': 40.766931, 'pickup_longitude': -73.982098, 'trip_distance': 1.3}\n",
    "distance_first_and_second = distance_location(first_trip, second_trip)\n",
    "\n",
    "distance_first_and_second and round(distance_first_and_second, 3) # 0.235"
   ]
  },
  {
   "cell_type": "markdown",
   "metadata": {},
   "source": [
    "Ok, next write a function called `distance_between_neighbors` that adds a new key-value pair, called `distance_from_selected`, that calculates the distance of the `neighbor_trip` from the `selected_trip`."
   ]
  },
  {
   "cell_type": "code",
   "execution_count": null,
   "metadata": {},
   "outputs": [],
   "source": [
    "def distance_between_neighbors(selected_trip, neighbor_trip):\n",
    "    pass"
   ]
  },
  {
   "cell_type": "code",
   "execution_count": null,
   "metadata": {},
   "outputs": [],
   "source": [
    "distance_between_neighbors(first_trip, second_trip)\n",
    "\n",
    "# {'distance_from_selected': 0.23505256047318146,\n",
    "#  'pickup_latitude': 40.766931,\n",
    "#  'pickup_longitude': -73.982098,\n",
    "#  'trip_distance': 1.3}"
   ]
  },
  {
   "cell_type": "markdown",
   "metadata": {},
   "source": [
    "Ok, now our `neighbor_trip` has another attribute called `distance_from_selected`, that indicates the distance from the `neighbor_trip`'s pickup location from the `selected_trip`."
   ]
  },
  {
   "cell_type": "markdown",
   "metadata": {},
   "source": [
    "> ** Understand the data:** Our dictionary now has a few attributes, two of which say distance.  Let's make sure we understand the difference. \n",
    "> * **`distance_from_selected`:** This is our calculation of the distance of the neighbor's pickup location from the selected trip.\n",
    "> * **`trip_distance`:** This is the attribute we were provided initially.  It tells us the length of the neighbor's taxi trip from pickup to drop-off.  "
   ]
  },
  {
   "cell_type": "markdown",
   "metadata": {},
   "source": [
    "Next, write a function called `distance_all` that provided a list of neighbors, returns each of those neighbors with their respective `distance_from_selected` numbers."
   ]
  },
  {
   "cell_type": "code",
   "execution_count": null,
   "metadata": {},
   "outputs": [],
   "source": [
    "def distance_all(selected_individual, neighbors):\n",
    "    pass"
   ]
  },
  {
   "cell_type": "code",
   "execution_count": null,
   "metadata": {},
   "outputs": [],
   "source": [
    "cleaned_trips and distance_all(first_trip, cleaned_trips[0:4])"
   ]
  },
  {
   "cell_type": "markdown",
   "metadata": {},
   "source": [
    "Now write the nearest neighbors formula to calculate the distance of the `selected_trip` from all of the `cleaned_trips` in our dataset.  If no number is provided, it should return the top 3 neighbors."
   ]
  },
  {
   "cell_type": "code",
   "execution_count": null,
   "metadata": {},
   "outputs": [],
   "source": [
    "def nearest_neighbors(selected_trip, trips, number = 3):\n",
    "    pass"
   ]
  },
  {
   "cell_type": "code",
   "execution_count": null,
   "metadata": {},
   "outputs": [],
   "source": [
    "new_trip = {'pickup_latitude': 40.64499,\n",
    "'pickup_longitude': -73.78115,\n",
    "'trip_distance': 18.38}\n",
    "\n",
    "nearest_three_neighbors = nearest_neighbors(new_trip, cleaned_trips or [], number = 3)\n",
    "nearest_three_neighbors\n",
    "# [{'distance_from_selected': 0.0004569288784918792,\n",
    "#   'pickup_latitude': 40.64483,\n",
    "#   'pickup_longitude': -73.781578,\n",
    "#   'trip_distance': 7.78},\n",
    "#  {'distance_from_selected': 0.0011292165425673159,\n",
    "#   'pickup_latitude': 40.644657,\n",
    "#   'pickup_longitude': -73.782229,\n",
    "#   'trip_distance': 12.7},\n",
    "#  {'distance_from_selected': 0.0042359798158141185,\n",
    "#   'pickup_latitude': 40.648509,\n",
    "#   'pickup_longitude': -73.783508,\n",
    "#   'trip_distance': 17.3}]"
   ]
  },
  {
   "cell_type": "markdown",
   "metadata": {},
   "source": [
    "Ok great! Now that we can provide a new trip location, and find the distances of the three nearest trips, we can take  calculate an estimate of the trip distance for that new trip location.  \n",
    "\n",
    "We do so simply by calculating the average of it's nearest neighbors."
   ]
  },
  {
   "cell_type": "code",
   "execution_count": null,
   "metadata": {},
   "outputs": [],
   "source": [
    "import statistics\n",
    "def mean_distance(neighbors):\n",
    "    nearest_distances = list(map(lambda neighbor: neighbor['trip_distance'], neighbors))\n",
    "    return round(statistics.mean(nearest_distances), 3)\n",
    "\n",
    "nearest_three_neighbors = nearest_neighbors(new_trip, cleaned_trips or [], number = 3)\n",
    "distance_estimate_of_selected_trip = mean_distance(nearest_three_neighbors) # 12.593\n",
    "distance_estimate_of_selected_trip"
   ]
  },
  {
   "cell_type": "markdown",
   "metadata": {},
   "source": [
    "### Choosing the correct number of neighbors"
   ]
  },
  {
   "cell_type": "markdown",
   "metadata": {},
   "source": [
    "Now, as we know from the last lesson, one tricky element is to determine how many neighbors to choose, our $k$ value,  before calculating the average.  We want to choose our value of $k$ such that it properly matches actual data, and so that it applies to new data.  There are fancy formulas to ensure that we **train** our algorithm so that our formula is optimized for all data, but here let's see different $k$ values manually.  This is the gist of choosing our $k$ value:\n",
    "\n",
    "* If we choose a $k$ value too low, our formula will be too heavily influenced by a single neighbor, whereas if our $k$ value is too high, we will be choosing so many neighbors that our nearest neighbors formula will not be adjust enough according to locations.\n",
    "\n",
    "Ok, let's experiment with this."
   ]
  },
  {
   "cell_type": "markdown",
   "metadata": {},
   "source": [
    "First, let's choose a midtown location, to see what the trip distance would be.  A Google search reveals the coordinates of 51st and 7th avenue to be the following."
   ]
  },
  {
   "cell_type": "code",
   "execution_count": null,
   "metadata": {},
   "outputs": [],
   "source": [
    "midtown_trip = dict(pickup_latitude=40.761710, pickup_longitude=-73.982760)"
   ]
  },
  {
   "cell_type": "code",
   "execution_count": null,
   "metadata": {},
   "outputs": [],
   "source": [
    "seven_closest = nearest_neighbors(midtown_trip, cleaned_trips, number = 7)\n",
    "seven_closest\n",
    "# [{'trip_distance': 0.58,\n",
    "#   'pickup_latitude': 40.761372,\n",
    "#   'pickup_longitude': -73.982602,\n",
    "#   'distance_from_selected': 0.00037310588309379025},\n",
    "#  {'trip_distance': 0.8,\n",
    "#   'pickup_latitude': 40.762444,\n",
    "#   'pickup_longitude': -73.98244,\n",
    "#   'distance_from_selected': 0.00080072217404248},\n",
    "#  {'trip_distance': 1.4,\n",
    "#   'pickup_latitude': 40.762767,\n",
    "#   'pickup_longitude': -73.982293,\n",
    "#   'distance_from_selected': 0.0011555682584735844},\n",
    "#  {'trip_distance': 8.3,\n",
    "#   'pickup_latitude': 40.762868,\n",
    "#   'pickup_longitude': -73.983233,\n",
    "#   'distance_from_selected': 0.0012508768924205918},\n",
    "#  {'trip_distance': 1.26,\n",
    "#   'pickup_latitude': 40.760057,\n",
    "#   'pickup_longitude': -73.983502,\n",
    "#   'distance_from_selected': 0.0018118976240381972},\n",
    "#  {'trip_distance': 0.0,\n",
    "#   'pickup_latitude': 40.760644,\n",
    "#   'pickup_longitude': -73.984531,\n",
    "#   'distance_from_selected': 0.002067074502774709},\n",
    "#  {'trip_distance': 1.72,\n",
    "#   'pickup_latitude': 40.762107,\n",
    "#   'pickup_longitude': -73.98479,\n",
    "#   'distance_from_selected': 0.0020684557041472677}]"
   ]
  },
  {
   "cell_type": "markdown",
   "metadata": {},
   "source": [
    "Looking at the `distance_from_selected` it appears that our our trips are still fairly close to our selected trip.  Notice that most of the data is within a distance of .002 away, so going to the top 7 nearest neighbors didn't seem to give us neighbors too far from each other, which is a good sign.\n",
    "\n",
    "Still, it's hard to know what distance in latitude and longitude really look like, so let's map the data. "
   ]
  },
  {
   "cell_type": "code",
   "execution_count": null,
   "metadata": {},
   "outputs": [],
   "source": [
    "midtown_location = location(midtown_trip) # [40.76171, -73.98276]\n",
    "midtown_map = map_from(midtown_location, 16)\n",
    "closest_markers = markers_from_trips(seven_closest)\n",
    "\n",
    "add_markers(closest_markers, midtown_map)"
   ]
  },
  {
   "cell_type": "markdown",
   "metadata": {},
   "source": [
    "Ok.  These locations stay fairly close to our estimated location of 51st street and 7th Avenue.  So they could be a good estimate of a trip distance."
   ]
  },
  {
   "cell_type": "code",
   "execution_count": null,
   "metadata": {},
   "outputs": [],
   "source": [
    "mean_distance(seven_closest) # 2.009"
   ]
  },
  {
   "cell_type": "markdown",
   "metadata": {},
   "source": [
    "Ok, now let's try a different location"
   ]
  },
  {
   "cell_type": "code",
   "execution_count": null,
   "metadata": {},
   "outputs": [],
   "source": [
    "charging_bull_closest = nearest_neighbors({'pickup_latitude': 40.7049, 'pickup_longitude': -74.0137}, cleaned_trips, number = 12)"
   ]
  },
  {
   "cell_type": "code",
   "execution_count": null,
   "metadata": {
    "scrolled": true
   },
   "outputs": [],
   "source": [
    "mean_distance(charging_bull_closest) # 3.145"
   ]
  },
  {
   "cell_type": "markdown",
   "metadata": {},
   "source": [
    "Ok, so there appears to be a significant difference between choosing a location near Times Square versus choosing a location at Wall Street."
   ]
  },
  {
   "cell_type": "markdown",
   "metadata": {},
   "source": [
    "### Summary"
   ]
  },
  {
   "cell_type": "markdown",
   "metadata": {},
   "source": [
    "In this lab, we used the nearest neighbors function to predict the length of a taxi ride.  To do so, we selected a location, then found a number of taxi rides closest to that location, and finally took the average trip lengths of the nearest taxi rides to find an estimate of the new ride's trip length.  You can see that even with just a little bit of math and programming we can begin to make meaningful predictions with data."
   ]
  }
 ],
 "metadata": {
  "kernelspec": {
   "display_name": "Python 3",
   "language": "python",
   "name": "python3"
  },
  "language_info": {
   "codemirror_mode": {
    "name": "ipython",
    "version": 3
   },
   "file_extension": ".py",
   "mimetype": "text/x-python",
   "name": "python",
   "nbconvert_exporter": "python",
   "pygments_lexer": "ipython3",
   "version": "3.6.9"
  }
 },
 "nbformat": 4,
 "nbformat_minor": 2
}
